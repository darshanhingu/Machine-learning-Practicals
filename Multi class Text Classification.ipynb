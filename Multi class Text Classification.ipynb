{
 "cells": [
  {
   "cell_type": "markdown",
   "metadata": {},
   "source": [
    "# Multi-Class Text Classification"
   ]
  },
  {
   "cell_type": "code",
   "execution_count": 1,
   "metadata": {},
   "outputs": [
    {
     "data": {
      "text/html": [
       "<div>\n",
       "<style>\n",
       "    .dataframe thead tr:only-child th {\n",
       "        text-align: right;\n",
       "    }\n",
       "\n",
       "    .dataframe thead th {\n",
       "        text-align: left;\n",
       "    }\n",
       "\n",
       "    .dataframe tbody tr th {\n",
       "        vertical-align: top;\n",
       "    }\n",
       "</style>\n",
       "<table border=\"1\" class=\"dataframe\">\n",
       "  <thead>\n",
       "    <tr style=\"text-align: right;\">\n",
       "      <th></th>\n",
       "      <th>Date received</th>\n",
       "      <th>Product</th>\n",
       "      <th>Sub-product</th>\n",
       "      <th>Issue</th>\n",
       "      <th>Sub-issue</th>\n",
       "      <th>Consumer complaint narrative</th>\n",
       "      <th>Company public response</th>\n",
       "      <th>Company</th>\n",
       "      <th>State</th>\n",
       "      <th>ZIP code</th>\n",
       "      <th>Tags</th>\n",
       "      <th>Consumer consent provided?</th>\n",
       "      <th>Submitted via</th>\n",
       "      <th>Date sent to company</th>\n",
       "      <th>Company response to consumer</th>\n",
       "      <th>Timely response?</th>\n",
       "      <th>Consumer disputed?</th>\n",
       "      <th>Complaint ID</th>\n",
       "    </tr>\n",
       "  </thead>\n",
       "  <tbody>\n",
       "    <tr>\n",
       "      <th>0</th>\n",
       "      <td>03/14/2019</td>\n",
       "      <td>Mortgage</td>\n",
       "      <td>Conventional home mortgage</td>\n",
       "      <td>Trouble during payment process</td>\n",
       "      <td>NaN</td>\n",
       "      <td>NaN</td>\n",
       "      <td>Company believes it acted appropriately as aut...</td>\n",
       "      <td>Shellpoint Partners, LLC</td>\n",
       "      <td>NC</td>\n",
       "      <td>27519</td>\n",
       "      <td>NaN</td>\n",
       "      <td>Consent not provided</td>\n",
       "      <td>Web</td>\n",
       "      <td>03/14/2019</td>\n",
       "      <td>Closed with explanation</td>\n",
       "      <td>Yes</td>\n",
       "      <td>NaN</td>\n",
       "      <td>3179505.0</td>\n",
       "    </tr>\n",
       "    <tr>\n",
       "      <th>1</th>\n",
       "      <td>03/14/2019</td>\n",
       "      <td>Credit reporting, credit repair services, or o...</td>\n",
       "      <td>Credit reporting</td>\n",
       "      <td>Incorrect information on your report</td>\n",
       "      <td>Information belongs to someone else</td>\n",
       "      <td>NaN</td>\n",
       "      <td>NaN</td>\n",
       "      <td>CURO Intermediate Holdings</td>\n",
       "      <td>AZ</td>\n",
       "      <td>85040</td>\n",
       "      <td>NaN</td>\n",
       "      <td>NaN</td>\n",
       "      <td>Web</td>\n",
       "      <td>03/14/2019</td>\n",
       "      <td>Closed with explanation</td>\n",
       "      <td>Yes</td>\n",
       "      <td>NaN</td>\n",
       "      <td>3179861.0</td>\n",
       "    </tr>\n",
       "    <tr>\n",
       "      <th>2</th>\n",
       "      <td>03/14/2019</td>\n",
       "      <td>Vehicle loan or lease</td>\n",
       "      <td>Loan</td>\n",
       "      <td>Problem with a credit reporting company's inve...</td>\n",
       "      <td>Problem with personal statement of dispute</td>\n",
       "      <td>NaN</td>\n",
       "      <td>NaN</td>\n",
       "      <td>ALLY FINANCIAL INC.</td>\n",
       "      <td>MS</td>\n",
       "      <td>397XX</td>\n",
       "      <td>NaN</td>\n",
       "      <td>NaN</td>\n",
       "      <td>Web</td>\n",
       "      <td>03/14/2019</td>\n",
       "      <td>In progress</td>\n",
       "      <td>Yes</td>\n",
       "      <td>NaN</td>\n",
       "      <td>3179198.0</td>\n",
       "    </tr>\n",
       "    <tr>\n",
       "      <th>3</th>\n",
       "      <td>03/14/2019</td>\n",
       "      <td>Vehicle loan or lease</td>\n",
       "      <td>Loan</td>\n",
       "      <td>Improper use of your report</td>\n",
       "      <td>Reporting company used your report improperly</td>\n",
       "      <td>NaN</td>\n",
       "      <td>NaN</td>\n",
       "      <td>ALLY FINANCIAL INC.</td>\n",
       "      <td>MI</td>\n",
       "      <td>484XX</td>\n",
       "      <td>NaN</td>\n",
       "      <td>NaN</td>\n",
       "      <td>Referral</td>\n",
       "      <td>03/14/2019</td>\n",
       "      <td>In progress</td>\n",
       "      <td>Yes</td>\n",
       "      <td>NaN</td>\n",
       "      <td>3179501.0</td>\n",
       "    </tr>\n",
       "    <tr>\n",
       "      <th>4</th>\n",
       "      <td>03/14/2019</td>\n",
       "      <td>Debt collection</td>\n",
       "      <td>Other debt</td>\n",
       "      <td>Written notification about debt</td>\n",
       "      <td>Didn't receive enough information to verify debt</td>\n",
       "      <td>NaN</td>\n",
       "      <td>NaN</td>\n",
       "      <td>Bonneville Billing and Collections</td>\n",
       "      <td>FL</td>\n",
       "      <td>330XX</td>\n",
       "      <td>NaN</td>\n",
       "      <td>NaN</td>\n",
       "      <td>Web</td>\n",
       "      <td>03/14/2019</td>\n",
       "      <td>Closed with explanation</td>\n",
       "      <td>Yes</td>\n",
       "      <td>NaN</td>\n",
       "      <td>3179976.0</td>\n",
       "    </tr>\n",
       "  </tbody>\n",
       "</table>\n",
       "</div>"
      ],
      "text/plain": [
       "  Date received                                            Product  \\\n",
       "0    03/14/2019                                           Mortgage   \n",
       "1    03/14/2019  Credit reporting, credit repair services, or o...   \n",
       "2    03/14/2019                              Vehicle loan or lease   \n",
       "3    03/14/2019                              Vehicle loan or lease   \n",
       "4    03/14/2019                                    Debt collection   \n",
       "\n",
       "                  Sub-product  \\\n",
       "0  Conventional home mortgage   \n",
       "1            Credit reporting   \n",
       "2                        Loan   \n",
       "3                        Loan   \n",
       "4                  Other debt   \n",
       "\n",
       "                                               Issue  \\\n",
       "0                     Trouble during payment process   \n",
       "1               Incorrect information on your report   \n",
       "2  Problem with a credit reporting company's inve...   \n",
       "3                        Improper use of your report   \n",
       "4                    Written notification about debt   \n",
       "\n",
       "                                          Sub-issue  \\\n",
       "0                                               NaN   \n",
       "1               Information belongs to someone else   \n",
       "2        Problem with personal statement of dispute   \n",
       "3     Reporting company used your report improperly   \n",
       "4  Didn't receive enough information to verify debt   \n",
       "\n",
       "  Consumer complaint narrative  \\\n",
       "0                          NaN   \n",
       "1                          NaN   \n",
       "2                          NaN   \n",
       "3                          NaN   \n",
       "4                          NaN   \n",
       "\n",
       "                             Company public response  \\\n",
       "0  Company believes it acted appropriately as aut...   \n",
       "1                                                NaN   \n",
       "2                                                NaN   \n",
       "3                                                NaN   \n",
       "4                                                NaN   \n",
       "\n",
       "                              Company State ZIP code Tags  \\\n",
       "0            Shellpoint Partners, LLC    NC    27519  NaN   \n",
       "1          CURO Intermediate Holdings    AZ    85040  NaN   \n",
       "2                 ALLY FINANCIAL INC.    MS    397XX  NaN   \n",
       "3                 ALLY FINANCIAL INC.    MI    484XX  NaN   \n",
       "4  Bonneville Billing and Collections    FL    330XX  NaN   \n",
       "\n",
       "  Consumer consent provided? Submitted via Date sent to company  \\\n",
       "0       Consent not provided           Web           03/14/2019   \n",
       "1                        NaN           Web           03/14/2019   \n",
       "2                        NaN           Web           03/14/2019   \n",
       "3                        NaN      Referral           03/14/2019   \n",
       "4                        NaN           Web           03/14/2019   \n",
       "\n",
       "  Company response to consumer Timely response?  Consumer disputed?  \\\n",
       "0      Closed with explanation              Yes                 NaN   \n",
       "1      Closed with explanation              Yes                 NaN   \n",
       "2                  In progress              Yes                 NaN   \n",
       "3                  In progress              Yes                 NaN   \n",
       "4      Closed with explanation              Yes                 NaN   \n",
       "\n",
       "   Complaint ID  \n",
       "0     3179505.0  \n",
       "1     3179861.0  \n",
       "2     3179198.0  \n",
       "3     3179501.0  \n",
       "4     3179976.0  "
      ]
     },
     "execution_count": 1,
     "metadata": {},
     "output_type": "execute_result"
    }
   ],
   "source": [
    "#Step 1 load data\n",
    "import pandas as pd\n",
    "df = pd.read_csv('H:\\Machine Learning Module\\Data sets\\Consumer_Complaints.csv')\n",
    "df.head()"
   ]
  },
  {
   "cell_type": "code",
   "execution_count": 2,
   "metadata": {},
   "outputs": [
    {
     "name": "stdout",
     "output_type": "stream",
     "text": [
      "<class 'pandas.core.frame.DataFrame'>\n",
      "RangeIndex: 141891 entries, 0 to 141890\n",
      "Data columns (total 18 columns):\n",
      "Date received                   141891 non-null object\n",
      "Product                         141888 non-null object\n",
      "Sub-product                     141888 non-null object\n",
      "Issue                           141888 non-null object\n",
      "Sub-issue                       123176 non-null object\n",
      "Consumer complaint narrative    52529 non-null object\n",
      "Company public response         69412 non-null object\n",
      "Company                         141887 non-null object\n",
      "State                           137487 non-null object\n",
      "ZIP code                        122062 non-null object\n",
      "Tags                            18677 non-null object\n",
      "Consumer consent provided?      97832 non-null object\n",
      "Submitted via                   141887 non-null object\n",
      "Date sent to company            141887 non-null object\n",
      "Company response to consumer    141887 non-null object\n",
      "Timely response?                141887 non-null object\n",
      "Consumer disputed?              0 non-null float64\n",
      "Complaint ID                    141887 non-null float64\n",
      "dtypes: float64(2), object(16)\n",
      "memory usage: 19.5+ MB\n"
     ]
    }
   ],
   "source": [
    "df.info()"
   ]
  },
  {
   "cell_type": "markdown",
   "metadata": {},
   "source": [
    "** step-2  input putput extraction **"
   ]
  },
  {
   "cell_type": "code",
   "execution_count": 3,
   "metadata": {
    "collapsed": true
   },
   "outputs": [],
   "source": [
    "from io import StringIO\n",
    "col = ['Product','Consumer complaint narrative']\n",
    "df = df[col]\n",
    "#non-null values Extraction\n",
    "df = df[pd.notnull(df['Consumer complaint narrative'])]\n",
    "df.columns = ['Product','Consumer_complaint_narrative']"
   ]
  },
  {
   "cell_type": "code",
   "execution_count": 4,
   "metadata": {
    "scrolled": true
   },
   "outputs": [
    {
     "data": {
      "text/html": [
       "<div>\n",
       "<style>\n",
       "    .dataframe thead tr:only-child th {\n",
       "        text-align: right;\n",
       "    }\n",
       "\n",
       "    .dataframe thead th {\n",
       "        text-align: left;\n",
       "    }\n",
       "\n",
       "    .dataframe tbody tr th {\n",
       "        vertical-align: top;\n",
       "    }\n",
       "</style>\n",
       "<table border=\"1\" class=\"dataframe\">\n",
       "  <thead>\n",
       "    <tr style=\"text-align: right;\">\n",
       "      <th></th>\n",
       "      <th>Product</th>\n",
       "      <th>Consumer_complaint_narrative</th>\n",
       "    </tr>\n",
       "  </thead>\n",
       "  <tbody>\n",
       "    <tr>\n",
       "      <th>5225</th>\n",
       "      <td>Debt collection</td>\n",
       "      <td>I have repeatedly tried to have company verify...</td>\n",
       "    </tr>\n",
       "    <tr>\n",
       "      <th>5552</th>\n",
       "      <td>Debt collection</td>\n",
       "      <td>Perfection Collection XXXX XXXX XXXX XXXX XXXX...</td>\n",
       "    </tr>\n",
       "    <tr>\n",
       "      <th>5761</th>\n",
       "      <td>Debt collection</td>\n",
       "      <td>ability recovery services had put a collection...</td>\n",
       "    </tr>\n",
       "    <tr>\n",
       "      <th>5814</th>\n",
       "      <td>Credit reporting, credit repair services, or o...</td>\n",
       "      <td>My credit report showed me a hard inquiry made...</td>\n",
       "    </tr>\n",
       "    <tr>\n",
       "      <th>6289</th>\n",
       "      <td>Debt collection</td>\n",
       "      <td>XXXX XXXX XXXX is reporting a collection for X...</td>\n",
       "    </tr>\n",
       "  </tbody>\n",
       "</table>\n",
       "</div>"
      ],
      "text/plain": [
       "                                                Product  \\\n",
       "5225                                    Debt collection   \n",
       "5552                                    Debt collection   \n",
       "5761                                    Debt collection   \n",
       "5814  Credit reporting, credit repair services, or o...   \n",
       "6289                                    Debt collection   \n",
       "\n",
       "                           Consumer_complaint_narrative  \n",
       "5225  I have repeatedly tried to have company verify...  \n",
       "5552  Perfection Collection XXXX XXXX XXXX XXXX XXXX...  \n",
       "5761  ability recovery services had put a collection...  \n",
       "5814  My credit report showed me a hard inquiry made...  \n",
       "6289  XXXX XXXX XXXX is reporting a collection for X...  "
      ]
     },
     "execution_count": 4,
     "metadata": {},
     "output_type": "execute_result"
    }
   ],
   "source": [
    "df.head()"
   ]
  },
  {
   "cell_type": "code",
   "execution_count": 5,
   "metadata": {},
   "outputs": [
    {
     "data": {
      "text/plain": [
       "array(['Debt collection',\n",
       "       'Credit reporting, credit repair services, or other personal consumer reports',\n",
       "       'Checking or savings account', 'Student loan',\n",
       "       'Credit card or prepaid card', 'Mortgage', 'Vehicle loan or lease',\n",
       "       'Payday loan, title loan, or personal loan',\n",
       "       'Money transfer, virtual currency, or money service'], dtype=object)"
      ]
     },
     "execution_count": 5,
     "metadata": {},
     "output_type": "execute_result"
    }
   ],
   "source": [
    "df['Product'].unique()"
   ]
  },
  {
   "cell_type": "code",
   "execution_count": 6,
   "metadata": {
    "collapsed": true
   },
   "outputs": [],
   "source": [
    "# TO categorize the particular  products\n",
    "df['category_id'] = df['Product'].factorize()[0]\n"
   ]
  },
  {
   "cell_type": "code",
   "execution_count": 7,
   "metadata": {},
   "outputs": [
    {
     "data": {
      "text/html": [
       "<div>\n",
       "<style>\n",
       "    .dataframe thead tr:only-child th {\n",
       "        text-align: right;\n",
       "    }\n",
       "\n",
       "    .dataframe thead th {\n",
       "        text-align: left;\n",
       "    }\n",
       "\n",
       "    .dataframe tbody tr th {\n",
       "        vertical-align: top;\n",
       "    }\n",
       "</style>\n",
       "<table border=\"1\" class=\"dataframe\">\n",
       "  <thead>\n",
       "    <tr style=\"text-align: right;\">\n",
       "      <th></th>\n",
       "      <th>Product</th>\n",
       "      <th>Consumer_complaint_narrative</th>\n",
       "      <th>category_id</th>\n",
       "    </tr>\n",
       "  </thead>\n",
       "  <tbody>\n",
       "    <tr>\n",
       "      <th>5225</th>\n",
       "      <td>Debt collection</td>\n",
       "      <td>I have repeatedly tried to have company verify...</td>\n",
       "      <td>0</td>\n",
       "    </tr>\n",
       "    <tr>\n",
       "      <th>5552</th>\n",
       "      <td>Debt collection</td>\n",
       "      <td>Perfection Collection XXXX XXXX XXXX XXXX XXXX...</td>\n",
       "      <td>0</td>\n",
       "    </tr>\n",
       "    <tr>\n",
       "      <th>5761</th>\n",
       "      <td>Debt collection</td>\n",
       "      <td>ability recovery services had put a collection...</td>\n",
       "      <td>0</td>\n",
       "    </tr>\n",
       "    <tr>\n",
       "      <th>5814</th>\n",
       "      <td>Credit reporting, credit repair services, or o...</td>\n",
       "      <td>My credit report showed me a hard inquiry made...</td>\n",
       "      <td>1</td>\n",
       "    </tr>\n",
       "    <tr>\n",
       "      <th>6289</th>\n",
       "      <td>Debt collection</td>\n",
       "      <td>XXXX XXXX XXXX is reporting a collection for X...</td>\n",
       "      <td>0</td>\n",
       "    </tr>\n",
       "  </tbody>\n",
       "</table>\n",
       "</div>"
      ],
      "text/plain": [
       "                                                Product  \\\n",
       "5225                                    Debt collection   \n",
       "5552                                    Debt collection   \n",
       "5761                                    Debt collection   \n",
       "5814  Credit reporting, credit repair services, or o...   \n",
       "6289                                    Debt collection   \n",
       "\n",
       "                           Consumer_complaint_narrative  category_id  \n",
       "5225  I have repeatedly tried to have company verify...            0  \n",
       "5552  Perfection Collection XXXX XXXX XXXX XXXX XXXX...            0  \n",
       "5761  ability recovery services had put a collection...            0  \n",
       "5814  My credit report showed me a hard inquiry made...            1  \n",
       "6289  XXXX XXXX XXXX is reporting a collection for X...            0  "
      ]
     },
     "execution_count": 7,
     "metadata": {},
     "output_type": "execute_result"
    }
   ],
   "source": [
    "df.head()"
   ]
  },
  {
   "cell_type": "code",
   "execution_count": 8,
   "metadata": {},
   "outputs": [
    {
     "data": {
      "text/html": [
       "<div>\n",
       "<style>\n",
       "    .dataframe thead tr:only-child th {\n",
       "        text-align: right;\n",
       "    }\n",
       "\n",
       "    .dataframe thead th {\n",
       "        text-align: left;\n",
       "    }\n",
       "\n",
       "    .dataframe tbody tr th {\n",
       "        vertical-align: top;\n",
       "    }\n",
       "</style>\n",
       "<table border=\"1\" class=\"dataframe\">\n",
       "  <thead>\n",
       "    <tr style=\"text-align: right;\">\n",
       "      <th></th>\n",
       "      <th>Product</th>\n",
       "      <th>category_id</th>\n",
       "    </tr>\n",
       "  </thead>\n",
       "  <tbody>\n",
       "    <tr>\n",
       "      <th>5225</th>\n",
       "      <td>Debt collection</td>\n",
       "      <td>0</td>\n",
       "    </tr>\n",
       "    <tr>\n",
       "      <th>5814</th>\n",
       "      <td>Credit reporting, credit repair services, or o...</td>\n",
       "      <td>1</td>\n",
       "    </tr>\n",
       "    <tr>\n",
       "      <th>6385</th>\n",
       "      <td>Checking or savings account</td>\n",
       "      <td>2</td>\n",
       "    </tr>\n",
       "    <tr>\n",
       "      <th>7727</th>\n",
       "      <td>Student loan</td>\n",
       "      <td>3</td>\n",
       "    </tr>\n",
       "    <tr>\n",
       "      <th>8139</th>\n",
       "      <td>Credit card or prepaid card</td>\n",
       "      <td>4</td>\n",
       "    </tr>\n",
       "    <tr>\n",
       "      <th>8539</th>\n",
       "      <td>Mortgage</td>\n",
       "      <td>5</td>\n",
       "    </tr>\n",
       "    <tr>\n",
       "      <th>9834</th>\n",
       "      <td>Vehicle loan or lease</td>\n",
       "      <td>6</td>\n",
       "    </tr>\n",
       "    <tr>\n",
       "      <th>10593</th>\n",
       "      <td>Payday loan, title loan, or personal loan</td>\n",
       "      <td>7</td>\n",
       "    </tr>\n",
       "    <tr>\n",
       "      <th>11587</th>\n",
       "      <td>Money transfer, virtual currency, or money ser...</td>\n",
       "      <td>8</td>\n",
       "    </tr>\n",
       "  </tbody>\n",
       "</table>\n",
       "</div>"
      ],
      "text/plain": [
       "                                                 Product  category_id\n",
       "5225                                     Debt collection            0\n",
       "5814   Credit reporting, credit repair services, or o...            1\n",
       "6385                         Checking or savings account            2\n",
       "7727                                        Student loan            3\n",
       "8139                         Credit card or prepaid card            4\n",
       "8539                                            Mortgage            5\n",
       "9834                               Vehicle loan or lease            6\n",
       "10593          Payday loan, title loan, or personal loan            7\n",
       "11587  Money transfer, virtual currency, or money ser...            8"
      ]
     },
     "execution_count": 8,
     "metadata": {},
     "output_type": "execute_result"
    }
   ],
   "source": [
    "category_id_df = df[['Product','category_id']].drop_duplicates().sort_values('category_id')\n",
    "category_id_df"
   ]
  },
  {
   "cell_type": "code",
   "execution_count": 9,
   "metadata": {},
   "outputs": [
    {
     "data": {
      "text/plain": [
       "{0: 'Debt collection',\n",
       " 1: 'Credit reporting, credit repair services, or other personal consumer reports',\n",
       " 2: 'Checking or savings account',\n",
       " 3: 'Student loan',\n",
       " 4: 'Credit card or prepaid card',\n",
       " 5: 'Mortgage',\n",
       " 6: 'Vehicle loan or lease',\n",
       " 7: 'Payday loan, title loan, or personal loan',\n",
       " 8: 'Money transfer, virtual currency, or money service'}"
      ]
     },
     "execution_count": 9,
     "metadata": {},
     "output_type": "execute_result"
    }
   ],
   "source": [
    "category_to_id = dict(category_id_df.values)\n",
    "id_to_category = dict(category_id_df[['category_id','Product']].values) # convert into dictionary\n",
    "id_to_category\n"
   ]
  },
  {
   "cell_type": "code",
   "execution_count": 10,
   "metadata": {},
   "outputs": [
    {
     "data": {
      "image/png": "[encoded data removed]",
      "text/plain": [
       "<Figure size 576x432 with 1 Axes>"
      ]
     },
     "metadata": {},
     "output_type": "display_data"
    }
   ],
   "source": [
    "import matplotlib.pyplot as plt\n",
    "fig = plt.figure(figsize=(8,6))\n",
    "df.groupby('Product').Consumer_complaint_narrative.count().plot.bar(ylim=0)\n",
    "plt.show()"
   ]
  },
  {
   "cell_type": "code",
   "execution_count": 11,
   "metadata": {},
   "outputs": [
    {
     "data": {
      "text/plain": [
       "TfidfVectorizer(analyzer='word', binary=False, decode_error='strict',\n",
       "        dtype=<class 'numpy.int64'>, encoding='latin-1', input='content',\n",
       "        lowercase=True, max_df=1.0, max_features=None, min_df=5,\n",
       "        ngram_range=(1, 2), norm='l2', preprocessor=None, smooth_idf=True,\n",
       "        stop_words='english', strip_accents=None, sublinear_tf=True,\n",
       "        token_pattern='(?u)\\\\b\\\\w\\\\w+\\\\b', tokenizer=None, use_idf=True,\n",
       "        vocabulary=None)"
      ]
     },
     "execution_count": 11,
     "metadata": {},
     "output_type": "execute_result"
    }
   ],
   "source": [
    "from sklearn.feature_extraction.text import TfidfVectorizer\n",
    "tfidf = TfidfVectorizer(sublinear_tf=True,min_df=5,norm='l2',encoding='latin-1', ngram_range=(1,2),stop_words='english')\n",
    "\n",
    "tfidf"
   ]
  },
  {
   "cell_type": "code",
   "execution_count": 12,
   "metadata": {
    "collapsed": true
   },
   "outputs": [],
   "source": [
    "features = tfidf.fit_transform(df.Consumer_complaint_narrative)"
   ]
  },
  {
   "cell_type": "code",
   "execution_count": 13,
   "metadata": {},
   "outputs": [
    {
     "name": "stdout",
     "output_type": "stream",
     "text": [
      "  (0, 97876)\t0.155527606468\n",
      "  (0, 119725)\t0.113177003352\n",
      "  (0, 27765)\t0.0777731813958\n",
      "  (0, 123679)\t0.125694447167\n",
      "  (0, 36618)\t0.0883646890277\n",
      "  (0, 100578)\t0.105935460478\n",
      "  (0, 108597)\t0.160534252125\n",
      "  (0, 108054)\t0.246870933281\n",
      "  (0, 101063)\t0.127180377779\n",
      "  (0, 105969)\t0.308078632967\n",
      "  (0, 73012)\t0.157678348212\n",
      "  (0, 91780)\t0.194614457392\n",
      "  (0, 90174)\t0.210135516308\n",
      "  (0, 90580)\t0.109480751559\n",
      "  (0, 97929)\t0.266961949353\n",
      "  (0, 119756)\t0.301238436501\n",
      "  (0, 28531)\t0.272811520474\n",
      "  (0, 123708)\t0.212300789238\n",
      "  (0, 37157)\t0.239310792417\n",
      "  (0, 100814)\t0.314841825721\n",
      "  (0, 73060)\t0.280902528204\n",
      "  (0, 90182)\t0.297703582147\n",
      "  (1, 27765)\t0.0437000535358\n",
      "  (1, 36618)\t0.0496513267412\n",
      "  (1, 86093)\t0.273645693802\n",
      "  :\t:\n",
      "  (52528, 23630)\t0.0982656372477\n",
      "  (52528, 18006)\t0.154989351514\n",
      "  (52528, 127973)\t0.0777007807821\n",
      "  (52528, 43020)\t0.289536037538\n",
      "  (52528, 128711)\t0.0982656372477\n",
      "  (52528, 32690)\t0.104283370188\n",
      "  (52528, 46205)\t0.095693415175\n",
      "  (52528, 117705)\t0.0878344719023\n",
      "  (52528, 73041)\t0.095693415175\n",
      "  (52528, 8957)\t0.104283370188\n",
      "  (52528, 120910)\t0.0921870725253\n",
      "  (52528, 120911)\t0.103325329278\n",
      "  (52528, 24365)\t0.0912290316159\n",
      "  (52528, 115237)\t0.0909273545358\n",
      "  (52528, 2431)\t0.0895317517591\n",
      "  (52528, 121488)\t0.0939961353182\n",
      "  (52528, 52468)\t0.107789712837\n",
      "  (52528, 46844)\t0.107789712837\n",
      "  (52528, 128239)\t0.110957243381\n",
      "  (52528, 66078)\t0.107789712837\n",
      "  (52528, 123859)\t0.110957243381\n",
      "  (52528, 128554)\t0.232856234477\n",
      "  (52528, 8236)\t0.110957243381\n",
      "  (52528, 121157)\t0.106492859822\n",
      "  (52528, 88563)\t0.109259963524\n"
     ]
    }
   ],
   "source": [
    "labels = df.category_id\n",
    "features.shape\n",
    "print(features)"
   ]
  },
  {
   "cell_type": "markdown",
   "metadata": {},
   "source": [
    "** feature selection method **\n",
    "* chi-square test measures dependence between stochastic variables, so using this function “weeds out” the features that are the most likely to be independent of class and therefore irrelevant for classification.\n",
    "\n"
   ]
  },
  {
   "cell_type": "code",
   "execution_count": 14,
   "metadata": {
    "scrolled": true
   },
   "outputs": [
    {
     "name": "stdout",
     "output_type": "stream",
     "text": [
      "# 'Checking or savings account':\n",
      " . Most corelated unigrams:\n",
      ". overdraft\n",
      ".deposit\n",
      " . Most corelated bigrams:\n",
      ". savings account\n",
      ".checking account\n",
      "# 'Credit card or prepaid card':\n",
      " . Most corelated unigrams:\n",
      ". express\n",
      ".card\n",
      " . Most corelated bigrams:\n",
      ". american express\n",
      ".credit card\n",
      "# 'Credit reporting, credit repair services, or other personal consumer reports':\n",
      " . Most corelated unigrams:\n",
      ". experian\n",
      ".report\n",
      " . Most corelated bigrams:\n",
      ". mistakes appear\n",
      ".credit report\n",
      "# 'Debt collection':\n",
      " . Most corelated unigrams:\n",
      ". collection\n",
      ".debt\n",
      " . Most corelated bigrams:\n",
      ". collection agency\n",
      ".collect debt\n",
      "# 'Money transfer, virtual currency, or money service':\n",
      " . Most corelated unigrams:\n",
      ". western\n",
      ".paypal\n",
      " . Most corelated bigrams:\n",
      ". paypal account\n",
      ".western union\n",
      "# 'Mortgage':\n",
      " . Most corelated unigrams:\n",
      ". modification\n",
      ".mortgage\n",
      " . Most corelated bigrams:\n",
      ". mortgage company\n",
      ".loan modification\n",
      "# 'Payday loan, title loan, or personal loan':\n",
      " . Most corelated unigrams:\n",
      ". borrowed\n",
      ".payday\n",
      " . Most corelated bigrams:\n",
      ". 00 loan\n",
      ".payday loan\n",
      "# 'Student loan':\n",
      " . Most corelated unigrams:\n",
      ". loans\n",
      ".navient\n",
      " . Most corelated bigrams:\n",
      ". student loans\n",
      ".loan forgiveness\n",
      "# 'Vehicle loan or lease':\n",
      " . Most corelated unigrams:\n",
      ". vehicle\n",
      ".car\n",
      " . Most corelated bigrams:\n",
      ". credit acceptance\n",
      ".gm financial\n"
     ]
    }
   ],
   "source": [
    "from sklearn.feature_selection import chi2\n",
    "import numpy as np\n",
    "N = 2\n",
    "for Product,category_id in sorted(category_to_id.items()):\n",
    "    features_chi2 = chi2(features,labels == category_id)\n",
    "    indices = np.argsort(features_chi2[0])\n",
    "    features_names = np.array(tfidf.get_feature_names())[indices]\n",
    "    #unigrams - 'This', 'is', 'a' ,'multitext' ,'classification'   #It takes 1 space\n",
    "    #bigrams -  'This is' ,'a multitext', 'classification'        #It takes 2 spaces\n",
    "    unigrams = [v for v in features_names if len(v.split(' ')) == 1]\n",
    "    bigrams = [v for v in features_names if len(v.split(' ')) == 2]\n",
    "    print(\"# '{}':\".format(Product))\n",
    "    print(\" . Most corelated unigrams:\\n. {}\".format('\\n.'.join(unigrams[-N:])))\n",
    "    print(\" . Most corelated bigrams:\\n. {}\".format('\\n.'.join(bigrams[-N:])))\n",
    "    "
   ]
  },
  {
   "cell_type": "markdown",
   "metadata": {},
   "source": [
    "# Naive Bayes -MultinomialNB"
   ]
  },
  {
   "cell_type": "code",
   "execution_count": 15,
   "metadata": {
    "collapsed": true
   },
   "outputs": [],
   "source": [
    "from sklearn.model_selection import train_test_split\n",
    "from sklearn.feature_extraction.text import CountVectorizer\n",
    "from sklearn.feature_extraction.text import TfidfTransformer\n",
    "from sklearn.naive_bayes import MultinomialNB"
   ]
  },
  {
   "cell_type": "code",
   "execution_count": 16,
   "metadata": {},
   "outputs": [
    {
     "data": {
      "text/plain": [
       "MultinomialNB(alpha=1.0, class_prior=None, fit_prior=True)"
      ]
     },
     "execution_count": 16,
     "metadata": {},
     "output_type": "execute_result"
    }
   ],
   "source": [
    "X_train,X_test,y_train,y_test = train_test_split(df['Consumer_complaint_narrative'],df['Product'],random_state=0)\n",
    "count_vect = CountVectorizer()\n",
    "X_train_counts = count_vect.fit_transform(X_train)\n",
    "tfidf_transformer = TfidfTransformer()\n",
    "X_train_tfidf = tfidf_transformer.fit_transform(X_train_counts)\n",
    "clf = MultinomialNB()\n",
    "clf.fit(X_train_tfidf,y_train)"
   ]
  },
  {
   "cell_type": "code",
   "execution_count": 17,
   "metadata": {},
   "outputs": [
    {
     "name": "stdout",
     "output_type": "stream",
     "text": [
      "['Debt collection']\n"
     ]
    }
   ],
   "source": [
    "print(clf.predict(count_vect.transform(['ability recovery services had put a collection'])))"
   ]
  },
  {
   "cell_type": "markdown",
   "metadata": {},
   "source": [
    "# apply logistic reg , linear reg ,random forest"
   ]
  },
  {
   "cell_type": "markdown",
   "metadata": {},
   "source": [
    "# Linear SVC"
   ]
  },
  {
   "cell_type": "code",
   "execution_count": 18,
   "metadata": {},
   "outputs": [
    {
     "name": "stdout",
     "output_type": "stream",
     "text": [
      "0.863397750216\n"
     ]
    }
   ],
   "source": [
    "from sklearn.svm import LinearSVC #support vector classifier\n",
    "model = LinearSVC()\n",
    "X_train,X_test,y_train,y_test,indices_train,indices_test = train_test_split(features,labels,df.index,test_size=0.33,random_state=0)\n",
    "\n",
    "model.fit(X_train,y_train)\n",
    "y_pred = model.predict(X_test)\n",
    "y_pred\n",
    "confidence = model.score(X_test,y_test)\n",
    "print(confidence)"
   ]
  },
  {
   "cell_type": "code",
   "execution_count": 19,
   "metadata": {},
   "outputs": [
    {
     "data": {
      "text/plain": [
       "array([[2907,  371,   29,   29,   60,   45,   32,   15,    8],\n",
       "       [ 279, 7115,   15,   26,   97,   28,   32,    5,    4],\n",
       "       [  17,   24,  922,    0,   79,    6,    2,    2,   29],\n",
       "       [  43,   68,    1,  589,    6,    9,    1,    7,    0],\n",
       "       [  74,  199,   62,    4, 1482,    9,    5,    2,   10],\n",
       "       [  25,   53,   11,   12,   14, 1321,    4,    3,    2],\n",
       "       [  48,  105,    5,    6,   21,   17,  256,    5,    1],\n",
       "       [  75,   30,   12,   12,   18,   14,    6,  157,    4],\n",
       "       [  11,   11,   83,    1,   22,    3,    0,    0,  218]], dtype=int64)"
      ]
     },
     "execution_count": 19,
     "metadata": {},
     "output_type": "execute_result"
    }
   ],
   "source": [
    "from sklearn.metrics import confusion_matrix\n",
    "conf_mat = confusion_matrix(y_test,y_pred)\n",
    "conf_mat"
   ]
  },
  {
   "cell_type": "code",
   "execution_count": 20,
   "metadata": {},
   "outputs": [
    {
     "data": {
      "image/png": "[encoded data removed]",
      "text/plain": [
       "<Figure size 504x504 with 2 Axes>"
      ]
     },
     "metadata": {},
     "output_type": "display_data"
    }
   ],
   "source": [
    "import seaborn as sns\n",
    "fig ,ax = plt.subplots(figsize=(7,7))\n",
    "sns.heatmap(conf_mat,annot=True,fmt='d',xticklabels=category_id_df.Product.values,yticklabels=category_id_df.Product.values)\n",
    "plt.show()"
   ]
  },
  {
   "cell_type": "markdown",
   "metadata": {},
   "source": [
    "# Logistic regression"
   ]
  },
  {
   "cell_type": "code",
   "execution_count": 21,
   "metadata": {},
   "outputs": [],
   "source": [
    "from sklearn.linear_model import LogisticRegression\n",
    "X_train,X_test,y_train,y_test,indices_train,indices_test = train_test_split(features,labels,df.index,test_size=0.33,random_state=0)\n"
   ]
  },
  {
   "cell_type": "code",
   "execution_count": 22,
   "metadata": {},
   "outputs": [
    {
     "name": "stdout",
     "output_type": "stream",
     "text": [
      "0.835881165273\n"
     ]
    }
   ],
   "source": [
    "logReg = LogisticRegression()\n",
    "logReg.fit(X_train,y_train)\n",
    "confidence = logReg.score(X_test,y_test)\n",
    "print(confidence)"
   ]
  },
  {
   "cell_type": "code",
   "execution_count": 23,
   "metadata": {},
   "outputs": [
    {
     "name": "stdout",
     "output_type": "stream",
     "text": [
      "[1 1 0 ..., 0 4 1]\n"
     ]
    }
   ],
   "source": [
    "prediction = logReg.predict(X_test)\n",
    "print(prediction)"
   ]
  },
  {
   "cell_type": "code",
   "execution_count": 24,
   "metadata": {},
   "outputs": [
    {
     "data": {
      "text/plain": [
       "array([[2791,  526,   25,   23,   54,   49,   16,    6,    6],\n",
       "       [ 341, 7063,   19,   20,  105,   44,    6,    3,    0],\n",
       "       [  24,   49,  906,    0,   83,    3,    1,    0,   15],\n",
       "       [  55,  104,    3,  535,    9,   13,    2,    3,    0],\n",
       "       [  71,  266,   56,    2, 1439,    2,    4,    0,    7],\n",
       "       [  34,   84,   13,   10,   17, 1285,    0,    1,    1],\n",
       "       [  45,  157,   11,    5,   24,   20,  199,    3,    0],\n",
       "       [  91,   58,   18,    7,   23,   24,    5,  100,    2],\n",
       "       [  18,   25,  102,    0,   27,    5,    0,    0,  172]], dtype=int64)"
      ]
     },
     "execution_count": 24,
     "metadata": {},
     "output_type": "execute_result"
    }
   ],
   "source": [
    "from sklearn.metrics import confusion_matrix\n",
    "conf_mat = confusion_matrix(y_test,prediction)\n",
    "conf_mat"
   ]
  },
  {
   "cell_type": "code",
   "execution_count": 25,
   "metadata": {},
   "outputs": [
    {
     "data": {
      "image/png": "[encoded data removed]",
      "text/plain": [
       "<Figure size 504x504 with 2 Axes>"
      ]
     },
     "metadata": {},
     "output_type": "display_data"
    }
   ],
   "source": [
    "import seaborn as sns\n",
    "fig ,ax = plt.subplots(figsize=(7,7))\n",
    "sns.heatmap(conf_mat,annot=True,fmt='d',xticklabels=category_id_df.Product.values,yticklabels=category_id_df.Product.values)\n",
    "plt.show()"
   ]
  },
  {
   "cell_type": "markdown",
   "metadata": {},
   "source": [
    "# Linear Regression"
   ]
  },
  {
   "cell_type": "code",
   "execution_count": 26,
   "metadata": {
    "collapsed": true
   },
   "outputs": [],
   "source": [
    "from sklearn.linear_model import LinearRegression"
   ]
  },
  {
   "cell_type": "code",
   "execution_count": null,
   "metadata": {},
   "outputs": [],
   "source": [
    "lr = LinearRegression()\n",
    "lr.fit(features,labels)\n"
   ]
  },
  {
   "cell_type": "code",
   "execution_count": null,
   "metadata": {
    "collapsed": true
   },
   "outputs": [],
   "source": [
    "prediction = lr.predict(X_test)"
   ]
  }
 ],
 "metadata": {
  "kernelspec": {
   "display_name": "Python 3",
   "language": "python",
   "name": "python3"
  },
  "language_info": {
   "codemirror_mode": {
    "name": "ipython",
    "version": 3
   },
   "file_extension": ".py",
   "mimetype": "text/x-python",
   "name": "python",
   "nbconvert_exporter": "python",
   "pygments_lexer": "ipython3",
   "version": "3.6.3"
  }
 },
 "nbformat": 4,
 "nbformat_minor": 2
}
