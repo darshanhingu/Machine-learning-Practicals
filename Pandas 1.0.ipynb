{
 "cells": [
  {
   "cell_type": "code",
   "execution_count": 1,
   "metadata": {
    "collapsed": true
   },
   "outputs": [],
   "source": [
    "import pandas as pd\n",
    "import numpy"
   ]
  },
  {
   "cell_type": "code",
   "execution_count": 2,
   "metadata": {
    "collapsed": true
   },
   "outputs": [],
   "source": [
    "df = pd.read_csv('H:/Machine Learning Module/Data sets/Gender_Height_Weight_Index.csv')\n",
    "#for  xlsx use read_excel"
   ]
  },
  {
   "cell_type": "code",
   "execution_count": 42,
   "metadata": {},
   "outputs": [
    {
     "data": {
      "text/html": [
       "<div>\n",
       "<style>\n",
       "    .dataframe thead tr:only-child th {\n",
       "        text-align: right;\n",
       "    }\n",
       "\n",
       "    .dataframe thead th {\n",
       "        text-align: left;\n",
       "    }\n",
       "\n",
       "    .dataframe tbody tr th {\n",
       "        vertical-align: top;\n",
       "    }\n",
       "</style>\n",
       "<table border=\"1\" class=\"dataframe\">\n",
       "  <thead>\n",
       "    <tr style=\"text-align: right;\">\n",
       "      <th></th>\n",
       "      <th>Gender</th>\n",
       "      <th>Height</th>\n",
       "      <th>Weight</th>\n",
       "      <th>Index</th>\n",
       "    </tr>\n",
       "  </thead>\n",
       "  <tbody>\n",
       "    <tr>\n",
       "      <th>0</th>\n",
       "      <td>Male</td>\n",
       "      <td>174</td>\n",
       "      <td>96</td>\n",
       "      <td>4</td>\n",
       "    </tr>\n",
       "    <tr>\n",
       "      <th>1</th>\n",
       "      <td>Male</td>\n",
       "      <td>189</td>\n",
       "      <td>87</td>\n",
       "      <td>2</td>\n",
       "    </tr>\n",
       "    <tr>\n",
       "      <th>2</th>\n",
       "      <td>Female</td>\n",
       "      <td>185</td>\n",
       "      <td>110</td>\n",
       "      <td>4</td>\n",
       "    </tr>\n",
       "    <tr>\n",
       "      <th>3</th>\n",
       "      <td>Female</td>\n",
       "      <td>195</td>\n",
       "      <td>104</td>\n",
       "      <td>3</td>\n",
       "    </tr>\n",
       "    <tr>\n",
       "      <th>4</th>\n",
       "      <td>Male</td>\n",
       "      <td>149</td>\n",
       "      <td>61</td>\n",
       "      <td>3</td>\n",
       "    </tr>\n",
       "  </tbody>\n",
       "</table>\n",
       "</div>"
      ],
      "text/plain": [
       "   Gender  Height  Weight  Index\n",
       "0    Male     174      96      4\n",
       "1    Male     189      87      2\n",
       "2  Female     185     110      4\n",
       "3  Female     195     104      3\n",
       "4    Male     149      61      3"
      ]
     },
     "execution_count": 42,
     "metadata": {},
     "output_type": "execute_result"
    }
   ],
   "source": [
    "df.head()"
   ]
  },
  {
   "cell_type": "code",
   "execution_count": 43,
   "metadata": {},
   "outputs": [
    {
     "data": {
      "text/plain": [
       "Index(['Gender', 'Height', 'Weight', 'Index'], dtype='object')"
      ]
     },
     "execution_count": 43,
     "metadata": {},
     "output_type": "execute_result"
    }
   ],
   "source": [
    "df.keys()"
   ]
  },
  {
   "cell_type": "code",
   "execution_count": 44,
   "metadata": {},
   "outputs": [
    {
     "data": {
      "text/html": [
       "<div>\n",
       "<style>\n",
       "    .dataframe thead tr:only-child th {\n",
       "        text-align: right;\n",
       "    }\n",
       "\n",
       "    .dataframe thead th {\n",
       "        text-align: left;\n",
       "    }\n",
       "\n",
       "    .dataframe tbody tr th {\n",
       "        vertical-align: top;\n",
       "    }\n",
       "</style>\n",
       "<table border=\"1\" class=\"dataframe\">\n",
       "  <thead>\n",
       "    <tr style=\"text-align: right;\">\n",
       "      <th></th>\n",
       "      <th>Gender</th>\n",
       "      <th>Height</th>\n",
       "      <th>Weight</th>\n",
       "      <th>Index</th>\n",
       "    </tr>\n",
       "  </thead>\n",
       "  <tbody>\n",
       "    <tr>\n",
       "      <th>495</th>\n",
       "      <td>Female</td>\n",
       "      <td>150</td>\n",
       "      <td>153</td>\n",
       "      <td>5</td>\n",
       "    </tr>\n",
       "    <tr>\n",
       "      <th>496</th>\n",
       "      <td>Female</td>\n",
       "      <td>184</td>\n",
       "      <td>121</td>\n",
       "      <td>4</td>\n",
       "    </tr>\n",
       "    <tr>\n",
       "      <th>497</th>\n",
       "      <td>Female</td>\n",
       "      <td>141</td>\n",
       "      <td>136</td>\n",
       "      <td>5</td>\n",
       "    </tr>\n",
       "    <tr>\n",
       "      <th>498</th>\n",
       "      <td>Male</td>\n",
       "      <td>150</td>\n",
       "      <td>95</td>\n",
       "      <td>5</td>\n",
       "    </tr>\n",
       "    <tr>\n",
       "      <th>499</th>\n",
       "      <td>Male</td>\n",
       "      <td>173</td>\n",
       "      <td>131</td>\n",
       "      <td>5</td>\n",
       "    </tr>\n",
       "  </tbody>\n",
       "</table>\n",
       "</div>"
      ],
      "text/plain": [
       "     Gender  Height  Weight  Index\n",
       "495  Female     150     153      5\n",
       "496  Female     184     121      4\n",
       "497  Female     141     136      5\n",
       "498    Male     150      95      5\n",
       "499    Male     173     131      5"
      ]
     },
     "execution_count": 44,
     "metadata": {},
     "output_type": "execute_result"
    }
   ],
   "source": [
    "df.tail()"
   ]
  },
  {
   "cell_type": "code",
   "execution_count": 45,
   "metadata": {
    "collapsed": true
   },
   "outputs": [],
   "source": [
    "male_data = df[df['Gender']=='Male']"
   ]
  },
  {
   "cell_type": "code",
   "execution_count": 46,
   "metadata": {},
   "outputs": [
    {
     "data": {
      "text/html": [
       "<div>\n",
       "<style>\n",
       "    .dataframe thead tr:only-child th {\n",
       "        text-align: right;\n",
       "    }\n",
       "\n",
       "    .dataframe thead th {\n",
       "        text-align: left;\n",
       "    }\n",
       "\n",
       "    .dataframe tbody tr th {\n",
       "        vertical-align: top;\n",
       "    }\n",
       "</style>\n",
       "<table border=\"1\" class=\"dataframe\">\n",
       "  <thead>\n",
       "    <tr style=\"text-align: right;\">\n",
       "      <th></th>\n",
       "      <th>Gender</th>\n",
       "      <th>Height</th>\n",
       "      <th>Weight</th>\n",
       "      <th>Index</th>\n",
       "    </tr>\n",
       "  </thead>\n",
       "  <tbody>\n",
       "    <tr>\n",
       "      <th>0</th>\n",
       "      <td>Male</td>\n",
       "      <td>174</td>\n",
       "      <td>96</td>\n",
       "      <td>4</td>\n",
       "    </tr>\n",
       "    <tr>\n",
       "      <th>1</th>\n",
       "      <td>Male</td>\n",
       "      <td>189</td>\n",
       "      <td>87</td>\n",
       "      <td>2</td>\n",
       "    </tr>\n",
       "    <tr>\n",
       "      <th>4</th>\n",
       "      <td>Male</td>\n",
       "      <td>149</td>\n",
       "      <td>61</td>\n",
       "      <td>3</td>\n",
       "    </tr>\n",
       "    <tr>\n",
       "      <th>5</th>\n",
       "      <td>Male</td>\n",
       "      <td>189</td>\n",
       "      <td>104</td>\n",
       "      <td>3</td>\n",
       "    </tr>\n",
       "    <tr>\n",
       "      <th>6</th>\n",
       "      <td>Male</td>\n",
       "      <td>147</td>\n",
       "      <td>92</td>\n",
       "      <td>5</td>\n",
       "    </tr>\n",
       "  </tbody>\n",
       "</table>\n",
       "</div>"
      ],
      "text/plain": [
       "  Gender  Height  Weight  Index\n",
       "0   Male     174      96      4\n",
       "1   Male     189      87      2\n",
       "4   Male     149      61      3\n",
       "5   Male     189     104      3\n",
       "6   Male     147      92      5"
      ]
     },
     "execution_count": 46,
     "metadata": {},
     "output_type": "execute_result"
    }
   ],
   "source": [
    "male_data.head()"
   ]
  },
  {
   "cell_type": "code",
   "execution_count": 47,
   "metadata": {},
   "outputs": [
    {
     "data": {
      "text/plain": [
       "(245, 4)"
      ]
     },
     "execution_count": 47,
     "metadata": {},
     "output_type": "execute_result"
    }
   ],
   "source": [
    "male_data.shape"
   ]
  },
  {
   "cell_type": "code",
   "execution_count": null,
   "metadata": {
    "collapsed": true
   },
   "outputs": [],
   "source": []
  },
  {
   "cell_type": "code",
   "execution_count": 48,
   "metadata": {
    "collapsed": true
   },
   "outputs": [],
   "source": [
    "Female_data = df[df['Gender']=='Female']"
   ]
  },
  {
   "cell_type": "code",
   "execution_count": 49,
   "metadata": {},
   "outputs": [
    {
     "data": {
      "text/html": [
       "<div>\n",
       "<style>\n",
       "    .dataframe thead tr:only-child th {\n",
       "        text-align: right;\n",
       "    }\n",
       "\n",
       "    .dataframe thead th {\n",
       "        text-align: left;\n",
       "    }\n",
       "\n",
       "    .dataframe tbody tr th {\n",
       "        vertical-align: top;\n",
       "    }\n",
       "</style>\n",
       "<table border=\"1\" class=\"dataframe\">\n",
       "  <thead>\n",
       "    <tr style=\"text-align: right;\">\n",
       "      <th></th>\n",
       "      <th>Gender</th>\n",
       "      <th>Height</th>\n",
       "      <th>Weight</th>\n",
       "      <th>Index</th>\n",
       "    </tr>\n",
       "  </thead>\n",
       "  <tbody>\n",
       "    <tr>\n",
       "      <th>2</th>\n",
       "      <td>Female</td>\n",
       "      <td>185</td>\n",
       "      <td>110</td>\n",
       "      <td>4</td>\n",
       "    </tr>\n",
       "    <tr>\n",
       "      <th>3</th>\n",
       "      <td>Female</td>\n",
       "      <td>195</td>\n",
       "      <td>104</td>\n",
       "      <td>3</td>\n",
       "    </tr>\n",
       "    <tr>\n",
       "      <th>9</th>\n",
       "      <td>Female</td>\n",
       "      <td>169</td>\n",
       "      <td>103</td>\n",
       "      <td>4</td>\n",
       "    </tr>\n",
       "    <tr>\n",
       "      <th>11</th>\n",
       "      <td>Female</td>\n",
       "      <td>159</td>\n",
       "      <td>80</td>\n",
       "      <td>4</td>\n",
       "    </tr>\n",
       "    <tr>\n",
       "      <th>12</th>\n",
       "      <td>Female</td>\n",
       "      <td>192</td>\n",
       "      <td>101</td>\n",
       "      <td>3</td>\n",
       "    </tr>\n",
       "  </tbody>\n",
       "</table>\n",
       "</div>"
      ],
      "text/plain": [
       "    Gender  Height  Weight  Index\n",
       "2   Female     185     110      4\n",
       "3   Female     195     104      3\n",
       "9   Female     169     103      4\n",
       "11  Female     159      80      4\n",
       "12  Female     192     101      3"
      ]
     },
     "execution_count": 49,
     "metadata": {},
     "output_type": "execute_result"
    }
   ],
   "source": [
    "Female_data.head()"
   ]
  },
  {
   "cell_type": "code",
   "execution_count": 50,
   "metadata": {
    "collapsed": true
   },
   "outputs": [],
   "source": [
    "df_val = df.drop('Gender',1)"
   ]
  },
  {
   "cell_type": "code",
   "execution_count": 51,
   "metadata": {},
   "outputs": [
    {
     "data": {
      "text/html": [
       "<div>\n",
       "<style>\n",
       "    .dataframe thead tr:only-child th {\n",
       "        text-align: right;\n",
       "    }\n",
       "\n",
       "    .dataframe thead th {\n",
       "        text-align: left;\n",
       "    }\n",
       "\n",
       "    .dataframe tbody tr th {\n",
       "        vertical-align: top;\n",
       "    }\n",
       "</style>\n",
       "<table border=\"1\" class=\"dataframe\">\n",
       "  <thead>\n",
       "    <tr style=\"text-align: right;\">\n",
       "      <th></th>\n",
       "      <th>Height</th>\n",
       "      <th>Weight</th>\n",
       "      <th>Index</th>\n",
       "    </tr>\n",
       "  </thead>\n",
       "  <tbody>\n",
       "    <tr>\n",
       "      <th>0</th>\n",
       "      <td>174</td>\n",
       "      <td>96</td>\n",
       "      <td>4</td>\n",
       "    </tr>\n",
       "    <tr>\n",
       "      <th>1</th>\n",
       "      <td>189</td>\n",
       "      <td>87</td>\n",
       "      <td>2</td>\n",
       "    </tr>\n",
       "    <tr>\n",
       "      <th>2</th>\n",
       "      <td>185</td>\n",
       "      <td>110</td>\n",
       "      <td>4</td>\n",
       "    </tr>\n",
       "    <tr>\n",
       "      <th>3</th>\n",
       "      <td>195</td>\n",
       "      <td>104</td>\n",
       "      <td>3</td>\n",
       "    </tr>\n",
       "    <tr>\n",
       "      <th>4</th>\n",
       "      <td>149</td>\n",
       "      <td>61</td>\n",
       "      <td>3</td>\n",
       "    </tr>\n",
       "  </tbody>\n",
       "</table>\n",
       "</div>"
      ],
      "text/plain": [
       "   Height  Weight  Index\n",
       "0     174      96      4\n",
       "1     189      87      2\n",
       "2     185     110      4\n",
       "3     195     104      3\n",
       "4     149      61      3"
      ]
     },
     "execution_count": 51,
     "metadata": {},
     "output_type": "execute_result"
    }
   ],
   "source": [
    "df_val.head()"
   ]
  },
  {
   "cell_type": "code",
   "execution_count": 52,
   "metadata": {
    "collapsed": true
   },
   "outputs": [],
   "source": [
    "#Type cast into array\n",
    "\n",
    "\n",
    "df_val = df_val[['Height','Weight']]"
   ]
  },
  {
   "cell_type": "code",
   "execution_count": 53,
   "metadata": {
    "collapsed": true
   },
   "outputs": [],
   "source": [
    "#Type cast into array\n",
    "\n",
    "\n",
    "df_val = df_val[['Height','Weight']]"
   ]
  },
  {
   "cell_type": "code",
   "execution_count": 54,
   "metadata": {},
   "outputs": [
    {
     "data": {
      "text/html": [
       "<div>\n",
       "<style>\n",
       "    .dataframe thead tr:only-child th {\n",
       "        text-align: right;\n",
       "    }\n",
       "\n",
       "    .dataframe thead th {\n",
       "        text-align: left;\n",
       "    }\n",
       "\n",
       "    .dataframe tbody tr th {\n",
       "        vertical-align: top;\n",
       "    }\n",
       "</style>\n",
       "<table border=\"1\" class=\"dataframe\">\n",
       "  <thead>\n",
       "    <tr style=\"text-align: right;\">\n",
       "      <th></th>\n",
       "      <th>Height</th>\n",
       "      <th>Weight</th>\n",
       "    </tr>\n",
       "  </thead>\n",
       "  <tbody>\n",
       "    <tr>\n",
       "      <th>0</th>\n",
       "      <td>174</td>\n",
       "      <td>96</td>\n",
       "    </tr>\n",
       "    <tr>\n",
       "      <th>1</th>\n",
       "      <td>189</td>\n",
       "      <td>87</td>\n",
       "    </tr>\n",
       "    <tr>\n",
       "      <th>2</th>\n",
       "      <td>185</td>\n",
       "      <td>110</td>\n",
       "    </tr>\n",
       "    <tr>\n",
       "      <th>3</th>\n",
       "      <td>195</td>\n",
       "      <td>104</td>\n",
       "    </tr>\n",
       "    <tr>\n",
       "      <th>4</th>\n",
       "      <td>149</td>\n",
       "      <td>61</td>\n",
       "    </tr>\n",
       "  </tbody>\n",
       "</table>\n",
       "</div>"
      ],
      "text/plain": [
       "   Height  Weight\n",
       "0     174      96\n",
       "1     189      87\n",
       "2     185     110\n",
       "3     195     104\n",
       "4     149      61"
      ]
     },
     "execution_count": 54,
     "metadata": {},
     "output_type": "execute_result"
    }
   ],
   "source": [
    "df_val.head()"
   ]
  },
  {
   "cell_type": "code",
   "execution_count": 55,
   "metadata": {
    "collapsed": true
   },
   "outputs": [],
   "source": [
    "from sklearn import cross_validation\n",
    "from sklearn.linear_model import LinearRegression\n",
    "import matplotlib.pyplot as plt"
   ]
  },
  {
   "cell_type": "code",
   "execution_count": 56,
   "metadata": {},
   "outputs": [
    {
     "data": {
      "text/plain": [
       "500"
      ]
     },
     "execution_count": 56,
     "metadata": {},
     "output_type": "execute_result"
    }
   ],
   "source": [
    "len(df_val)"
   ]
  },
  {
   "cell_type": "code",
   "execution_count": 62,
   "metadata": {
    "collapsed": true
   },
   "outputs": [],
   "source": [
    "X = df_val['Height']\n",
    "y = df_val['Weight']\n",
    "X_val = numpy.array(X)\n",
    "y_val = numpy.array(y)\n",
    "X_val = X_val.reshape(-1,1)\n",
    "y_val = y_val.reshape(-1,1)"
   ]
  },
  {
   "cell_type": "code",
   "execution_count": 63,
   "metadata": {
    "collapsed": true
   },
   "outputs": [],
   "source": [
    "X_train,X_test,y_train,y_test = cross_validation.train_test_split(X_val,y_val,test_size=0.2)"
   ]
  },
  {
   "cell_type": "code",
   "execution_count": 64,
   "metadata": {},
   "outputs": [
    {
     "data": {
      "text/plain": [
       "array([[ 69],\n",
       "       [140],\n",
       "       [156],\n",
       "       [ 71],\n",
       "       [ 96],\n",
       "       [142],\n",
       "       [ 82],\n",
       "       [121],\n",
       "       [122],\n",
       "       [131],\n",
       "       [ 55],\n",
       "       [132],\n",
       "       [159],\n",
       "       [154],\n",
       "       [146],\n",
       "       [149],\n",
       "       [ 82],\n",
       "       [ 84],\n",
       "       [155],\n",
       "       [ 95],\n",
       "       [ 85],\n",
       "       [ 92],\n",
       "       [ 70],\n",
       "       [147],\n",
       "       [141],\n",
       "       [149],\n",
       "       [160],\n",
       "       [141],\n",
       "       [108],\n",
       "       [145],\n",
       "       [158],\n",
       "       [101],\n",
       "       [109],\n",
       "       [110],\n",
       "       [124],\n",
       "       [154],\n",
       "       [131],\n",
       "       [140],\n",
       "       [ 70],\n",
       "       [144],\n",
       "       [ 74],\n",
       "       [119],\n",
       "       [151],\n",
       "       [130],\n",
       "       [139],\n",
       "       [110],\n",
       "       [126],\n",
       "       [130],\n",
       "       [109],\n",
       "       [132],\n",
       "       [140],\n",
       "       [ 62],\n",
       "       [ 90],\n",
       "       [ 86],\n",
       "       [ 68],\n",
       "       [156],\n",
       "       [106],\n",
       "       [ 50],\n",
       "       [ 57],\n",
       "       [116],\n",
       "       [ 78],\n",
       "       [ 57],\n",
       "       [124],\n",
       "       [ 52],\n",
       "       [ 53],\n",
       "       [159],\n",
       "       [148],\n",
       "       [ 64],\n",
       "       [140],\n",
       "       [158],\n",
       "       [ 56],\n",
       "       [136],\n",
       "       [ 68],\n",
       "       [ 51],\n",
       "       [108],\n",
       "       [134],\n",
       "       [135],\n",
       "       [141],\n",
       "       [149],\n",
       "       [ 88],\n",
       "       [140],\n",
       "       [110],\n",
       "       [112],\n",
       "       [ 75],\n",
       "       [ 50],\n",
       "       [ 79],\n",
       "       [100],\n",
       "       [121],\n",
       "       [136],\n",
       "       [ 79],\n",
       "       [ 60],\n",
       "       [ 52],\n",
       "       [146],\n",
       "       [ 72],\n",
       "       [153],\n",
       "       [ 51],\n",
       "       [ 71],\n",
       "       [ 59],\n",
       "       [ 61],\n",
       "       [ 66],\n",
       "       [108],\n",
       "       [137],\n",
       "       [ 84],\n",
       "       [ 54],\n",
       "       [ 57],\n",
       "       [155],\n",
       "       [ 61],\n",
       "       [ 62],\n",
       "       [ 64],\n",
       "       [ 57],\n",
       "       [119],\n",
       "       [ 87],\n",
       "       [153],\n",
       "       [133],\n",
       "       [ 62],\n",
       "       [145],\n",
       "       [117],\n",
       "       [137],\n",
       "       [101],\n",
       "       [121],\n",
       "       [ 85],\n",
       "       [ 59],\n",
       "       [111],\n",
       "       [ 56],\n",
       "       [106],\n",
       "       [139],\n",
       "       [ 80],\n",
       "       [ 99],\n",
       "       [151],\n",
       "       [126],\n",
       "       [122],\n",
       "       [107],\n",
       "       [ 70],\n",
       "       [ 61],\n",
       "       [118],\n",
       "       [ 93],\n",
       "       [138],\n",
       "       [123],\n",
       "       [153],\n",
       "       [ 90],\n",
       "       [155],\n",
       "       [118],\n",
       "       [141],\n",
       "       [ 70],\n",
       "       [ 67],\n",
       "       [ 84],\n",
       "       [ 52],\n",
       "       [150],\n",
       "       [157],\n",
       "       [ 96],\n",
       "       [105],\n",
       "       [ 80],\n",
       "       [142],\n",
       "       [ 60],\n",
       "       [137],\n",
       "       [147],\n",
       "       [ 95],\n",
       "       [ 80],\n",
       "       [ 77],\n",
       "       [127],\n",
       "       [104],\n",
       "       [ 71],\n",
       "       [102],\n",
       "       [138],\n",
       "       [143],\n",
       "       [115],\n",
       "       [ 94],\n",
       "       [156],\n",
       "       [145],\n",
       "       [141],\n",
       "       [123],\n",
       "       [120],\n",
       "       [ 92],\n",
       "       [152],\n",
       "       [ 83],\n",
       "       [ 83],\n",
       "       [160],\n",
       "       [111],\n",
       "       [ 94],\n",
       "       [ 81],\n",
       "       [109],\n",
       "       [143],\n",
       "       [ 61],\n",
       "       [ 98],\n",
       "       [122],\n",
       "       [117],\n",
       "       [ 84],\n",
       "       [151],\n",
       "       [153],\n",
       "       [114],\n",
       "       [ 67],\n",
       "       [114],\n",
       "       [ 52],\n",
       "       [ 50],\n",
       "       [ 52],\n",
       "       [ 61],\n",
       "       [129],\n",
       "       [ 65],\n",
       "       [ 54],\n",
       "       [118],\n",
       "       [142],\n",
       "       [135],\n",
       "       [115],\n",
       "       [110],\n",
       "       [107],\n",
       "       [127],\n",
       "       [147],\n",
       "       [ 80],\n",
       "       [116],\n",
       "       [104],\n",
       "       [104],\n",
       "       [102],\n",
       "       [106],\n",
       "       [131],\n",
       "       [ 90],\n",
       "       [ 88],\n",
       "       [138],\n",
       "       [ 90],\n",
       "       [ 65],\n",
       "       [144],\n",
       "       [ 58],\n",
       "       [ 98],\n",
       "       [ 89],\n",
       "       [ 74],\n",
       "       [108],\n",
       "       [ 70],\n",
       "       [140],\n",
       "       [131],\n",
       "       [ 77],\n",
       "       [ 69],\n",
       "       [ 65],\n",
       "       [ 81],\n",
       "       [ 86],\n",
       "       [160],\n",
       "       [ 88],\n",
       "       [154],\n",
       "       [ 94],\n",
       "       [ 80],\n",
       "       [ 95],\n",
       "       [145],\n",
       "       [ 89],\n",
       "       [118],\n",
       "       [ 54],\n",
       "       [ 58],\n",
       "       [143],\n",
       "       [107],\n",
       "       [101],\n",
       "       [100],\n",
       "       [ 66],\n",
       "       [141],\n",
       "       [104],\n",
       "       [ 54],\n",
       "       [ 86],\n",
       "       [105],\n",
       "       [ 54],\n",
       "       [ 89],\n",
       "       [ 64],\n",
       "       [109],\n",
       "       [ 79],\n",
       "       [104],\n",
       "       [ 70],\n",
       "       [160],\n",
       "       [ 85],\n",
       "       [115],\n",
       "       [133],\n",
       "       [139],\n",
       "       [124],\n",
       "       [ 88],\n",
       "       [139],\n",
       "       [135],\n",
       "       [110],\n",
       "       [125],\n",
       "       [123],\n",
       "       [ 80],\n",
       "       [154],\n",
       "       [105],\n",
       "       [ 99],\n",
       "       [ 50],\n",
       "       [ 94],\n",
       "       [135],\n",
       "       [ 81],\n",
       "       [114],\n",
       "       [ 57],\n",
       "       [131],\n",
       "       [ 72],\n",
       "       [105],\n",
       "       [ 96],\n",
       "       [ 83],\n",
       "       [111],\n",
       "       [138],\n",
       "       [156],\n",
       "       [146],\n",
       "       [ 76],\n",
       "       [ 78],\n",
       "       [ 96],\n",
       "       [118],\n",
       "       [109],\n",
       "       [ 75],\n",
       "       [154],\n",
       "       [126],\n",
       "       [105],\n",
       "       [ 61],\n",
       "       [158],\n",
       "       [ 56],\n",
       "       [128],\n",
       "       [140],\n",
       "       [159],\n",
       "       [132],\n",
       "       [117],\n",
       "       [ 54],\n",
       "       [ 76],\n",
       "       [ 90],\n",
       "       [ 75],\n",
       "       [154],\n",
       "       [146],\n",
       "       [ 81],\n",
       "       [ 59],\n",
       "       [ 71],\n",
       "       [ 79],\n",
       "       [ 99],\n",
       "       [ 74],\n",
       "       [120],\n",
       "       [ 91],\n",
       "       [111],\n",
       "       [103],\n",
       "       [ 56],\n",
       "       [ 97],\n",
       "       [ 80],\n",
       "       [ 87],\n",
       "       [ 85],\n",
       "       [146],\n",
       "       [121],\n",
       "       [115],\n",
       "       [ 67],\n",
       "       [ 90],\n",
       "       [111],\n",
       "       [157],\n",
       "       [ 96],\n",
       "       [ 87],\n",
       "       [ 96],\n",
       "       [121],\n",
       "       [ 51],\n",
       "       [ 62],\n",
       "       [ 50],\n",
       "       [ 66],\n",
       "       [ 98],\n",
       "       [ 58],\n",
       "       [140],\n",
       "       [123],\n",
       "       [ 60],\n",
       "       [153],\n",
       "       [126],\n",
       "       [102],\n",
       "       [110],\n",
       "       [131],\n",
       "       [127],\n",
       "       [ 70],\n",
       "       [139],\n",
       "       [147],\n",
       "       [153],\n",
       "       [155],\n",
       "       [ 68],\n",
       "       [126],\n",
       "       [149],\n",
       "       [ 76],\n",
       "       [135],\n",
       "       [ 83],\n",
       "       [155],\n",
       "       [ 86],\n",
       "       [ 62],\n",
       "       [130],\n",
       "       [139],\n",
       "       [101],\n",
       "       [ 82],\n",
       "       [ 50],\n",
       "       [153],\n",
       "       [145],\n",
       "       [ 65],\n",
       "       [ 68],\n",
       "       [ 83],\n",
       "       [120],\n",
       "       [ 97],\n",
       "       [143],\n",
       "       [137],\n",
       "       [110],\n",
       "       [ 69],\n",
       "       [107],\n",
       "       [ 83],\n",
       "       [ 81],\n",
       "       [111],\n",
       "       [ 61],\n",
       "       [ 63],\n",
       "       [ 79],\n",
       "       [ 92],\n",
       "       [138],\n",
       "       [ 51],\n",
       "       [ 80],\n",
       "       [ 87],\n",
       "       [ 73],\n",
       "       [119]], dtype=int64)"
      ]
     },
     "execution_count": 64,
     "metadata": {},
     "output_type": "execute_result"
    }
   ],
   "source": [
    "y_train #X_train,X_test,y_test"
   ]
  },
  {
   "cell_type": "code",
   "execution_count": 67,
   "metadata": {},
   "outputs": [
    {
     "data": {
      "text/plain": [
       "LinearRegression(copy_X=True, fit_intercept=True, n_jobs=1, normalize=False)"
      ]
     },
     "execution_count": 67,
     "metadata": {},
     "output_type": "execute_result"
    }
   ],
   "source": [
    "#Machine Learning Algo\n",
    "\n",
    "lr = LinearRegression()\n",
    "lr.fit(X_train,y_train)"
   ]
  },
  {
   "cell_type": "code",
   "execution_count": 69,
   "metadata": {},
   "outputs": [
    {
     "data": {
      "text/plain": [
       "-0.049070617247449544"
      ]
     },
     "execution_count": 69,
     "metadata": {},
     "output_type": "execute_result"
    }
   ],
   "source": [
    "accuracy = lr.score(X_test,y_test)\n",
    "accuracy"
   ]
  },
  {
   "cell_type": "code",
   "execution_count": null,
   "metadata": {
    "collapsed": true
   },
   "outputs": [],
   "source": []
  },
  {
   "cell_type": "code",
   "execution_count": 83,
   "metadata": {},
   "outputs": [
    {
     "ename": "TypeError",
     "evalue": "scatter() missing 1 required positional argument: 'y'",
     "output_type": "error",
     "traceback": [
      "\u001b[1;31m---------------------------------------------------------------------------\u001b[0m",
      "\u001b[1;31mTypeError\u001b[0m                                 Traceback (most recent call last)",
      "\u001b[1;32m<ipython-input-83-0154e2587f31>\u001b[0m in \u001b[0;36m<module>\u001b[1;34m()\u001b[0m\n\u001b[1;32m----> 1\u001b[1;33m \u001b[0mplt\u001b[0m\u001b[1;33m.\u001b[0m\u001b[0mscatter\u001b[0m\u001b[1;33m(\u001b[0m\u001b[0mX_val\u001b[0m\u001b[1;33m,\u001b[0m\u001b[0mcolor\u001b[0m\u001b[1;33m=\u001b[0m\u001b[1;34m'b'\u001b[0m\u001b[1;33m,\u001b[0m\u001b[0mlabel\u001b[0m\u001b[1;33m=\u001b[0m\u001b[1;34m'Data'\u001b[0m\u001b[1;33m)\u001b[0m\u001b[1;33m\u001b[0m\u001b[0m\n\u001b[0m\u001b[0;32m      2\u001b[0m \u001b[1;31m#plt.plot(a,b,color='red',label='Regression')\u001b[0m\u001b[1;33m\u001b[0m\u001b[1;33m\u001b[0m\u001b[0m\n\u001b[0;32m      3\u001b[0m \u001b[0mplt\u001b[0m\u001b[1;33m.\u001b[0m\u001b[0mplot\u001b[0m\u001b[1;33m(\u001b[0m\u001b[0my_val\u001b[0m\u001b[1;33m)\u001b[0m\u001b[1;33m\u001b[0m\u001b[0m\n\u001b[0;32m      4\u001b[0m \u001b[0mplt\u001b[0m\u001b[1;33m.\u001b[0m\u001b[0mxlabel\u001b[0m\u001b[1;33m(\u001b[0m\u001b[1;34m\"xdata\"\u001b[0m\u001b[1;33m)\u001b[0m\u001b[1;33m\u001b[0m\u001b[0m\n\u001b[0;32m      5\u001b[0m \u001b[0mplt\u001b[0m\u001b[1;33m.\u001b[0m\u001b[0mylabel\u001b[0m\u001b[1;33m(\u001b[0m\u001b[1;34m\"ydata\"\u001b[0m\u001b[1;33m)\u001b[0m\u001b[1;33m\u001b[0m\u001b[0m\n",
      "\u001b[1;31mTypeError\u001b[0m: scatter() missing 1 required positional argument: 'y'"
     ]
    }
   ],
   "source": [
    "plt.scatter(X_val,color='b',label='Data')\n",
    "#plt.plot(a,b,color='red',label='Regression')\n",
    "plt.plot(y_val)\n",
    "plt.xlabel(\"xdata\")\n",
    "plt.ylabel(\"ydata\")\n",
    "plt.legend(loc = 4)\n",
    "plt.show()\n",
    "plt.plot(X_val,y_val,color='r')"
   ]
  },
  {
   "cell_type": "code",
   "execution_count": null,
   "metadata": {
    "collapsed": true
   },
   "outputs": [],
   "source": []
  }
 ],
 "metadata": {
  "kernelspec": {
   "display_name": "Python 3",
   "language": "python",
   "name": "python3"
  },
  "language_info": {
   "codemirror_mode": {
    "name": "ipython",
    "version": 3
   },
   "file_extension": ".py",
   "mimetype": "text/x-python",
   "name": "python",
   "nbconvert_exporter": "python",
   "pygments_lexer": "ipython3",
   "version": "3.6.3"
  }
 },
 "nbformat": 4,
 "nbformat_minor": 2
}
