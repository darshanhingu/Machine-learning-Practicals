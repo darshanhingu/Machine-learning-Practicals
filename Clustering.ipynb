{
 "cells": [
  {
   "cell_type": "code",
   "execution_count": 2,
   "metadata": {},
   "outputs": [],
   "source": [
    "import numpy as np\n",
    "import matplotlib.pyplot as plt\n",
    "from sklearn.cluster import KMeans\n",
    "import pandas as pd"
   ]
  },
  {
   "cell_type": "code",
   "execution_count": null,
   "metadata": {
    "collapsed": true
   },
   "outputs": [],
   "source": [
    "#in clustering you dont have y(target or output)\n",
    "#clustering is Unsupervised learning"
   ]
  },
  {
   "cell_type": "code",
   "execution_count": 9,
   "metadata": {
    "collapsed": true
   },
   "outputs": [],
   "source": [
    "df = pd.read_csv('H:\\Machine Learning Module\\Data sets\\AirlinesCluster.csv')"
   ]
  },
  {
   "cell_type": "code",
   "execution_count": 10,
   "metadata": {},
   "outputs": [
    {
     "data": {
      "text/html": [
       "<div>\n",
       "<style>\n",
       "    .dataframe thead tr:only-child th {\n",
       "        text-align: right;\n",
       "    }\n",
       "\n",
       "    .dataframe thead th {\n",
       "        text-align: left;\n",
       "    }\n",
       "\n",
       "    .dataframe tbody tr th {\n",
       "        vertical-align: top;\n",
       "    }\n",
       "</style>\n",
       "<table border=\"1\" class=\"dataframe\">\n",
       "  <thead>\n",
       "    <tr style=\"text-align: right;\">\n",
       "      <th></th>\n",
       "      <th>Balance</th>\n",
       "      <th>QualMiles</th>\n",
       "      <th>BonusMiles</th>\n",
       "      <th>BonusTrans</th>\n",
       "      <th>FlightMiles</th>\n",
       "      <th>FlightTrans</th>\n",
       "      <th>DaysSinceEnroll</th>\n",
       "    </tr>\n",
       "  </thead>\n",
       "  <tbody>\n",
       "    <tr>\n",
       "      <th>0</th>\n",
       "      <td>28143</td>\n",
       "      <td>0</td>\n",
       "      <td>174</td>\n",
       "      <td>1</td>\n",
       "      <td>0</td>\n",
       "      <td>0</td>\n",
       "      <td>7000</td>\n",
       "    </tr>\n",
       "    <tr>\n",
       "      <th>1</th>\n",
       "      <td>19244</td>\n",
       "      <td>0</td>\n",
       "      <td>215</td>\n",
       "      <td>2</td>\n",
       "      <td>0</td>\n",
       "      <td>0</td>\n",
       "      <td>6968</td>\n",
       "    </tr>\n",
       "    <tr>\n",
       "      <th>2</th>\n",
       "      <td>41354</td>\n",
       "      <td>0</td>\n",
       "      <td>4123</td>\n",
       "      <td>4</td>\n",
       "      <td>0</td>\n",
       "      <td>0</td>\n",
       "      <td>7034</td>\n",
       "    </tr>\n",
       "    <tr>\n",
       "      <th>3</th>\n",
       "      <td>14776</td>\n",
       "      <td>0</td>\n",
       "      <td>500</td>\n",
       "      <td>1</td>\n",
       "      <td>0</td>\n",
       "      <td>0</td>\n",
       "      <td>6952</td>\n",
       "    </tr>\n",
       "    <tr>\n",
       "      <th>4</th>\n",
       "      <td>97752</td>\n",
       "      <td>0</td>\n",
       "      <td>43300</td>\n",
       "      <td>26</td>\n",
       "      <td>2077</td>\n",
       "      <td>4</td>\n",
       "      <td>6935</td>\n",
       "    </tr>\n",
       "  </tbody>\n",
       "</table>\n",
       "</div>"
      ],
      "text/plain": [
       "   Balance  QualMiles  BonusMiles  BonusTrans  FlightMiles  FlightTrans  \\\n",
       "0    28143          0         174           1            0            0   \n",
       "1    19244          0         215           2            0            0   \n",
       "2    41354          0        4123           4            0            0   \n",
       "3    14776          0         500           1            0            0   \n",
       "4    97752          0       43300          26         2077            4   \n",
       "\n",
       "   DaysSinceEnroll  \n",
       "0             7000  \n",
       "1             6968  \n",
       "2             7034  \n",
       "3             6952  \n",
       "4             6935  "
      ]
     },
     "execution_count": 10,
     "metadata": {},
     "output_type": "execute_result"
    }
   ],
   "source": [
    "df.head()"
   ]
  },
  {
   "cell_type": "code",
   "execution_count": 6,
   "metadata": {},
   "outputs": [
    {
     "name": "stdout",
     "output_type": "stream",
     "text": [
      "<class 'pandas.core.frame.DataFrame'>\n",
      "RangeIndex: 3999 entries, 0 to 3998\n",
      "Data columns (total 7 columns):\n",
      "Balance            3999 non-null int64\n",
      "QualMiles          3999 non-null int64\n",
      "BonusMiles         3999 non-null int64\n",
      "BonusTrans         3999 non-null int64\n",
      "FlightMiles        3999 non-null int64\n",
      "FlightTrans        3999 non-null int64\n",
      "DaysSinceEnroll    3999 non-null int64\n",
      "dtypes: int64(7)\n",
      "memory usage: 218.8 KB\n"
     ]
    }
   ],
   "source": [
    "df.info()"
   ]
  },
  {
   "cell_type": "code",
   "execution_count": 7,
   "metadata": {},
   "outputs": [
    {
     "data": {
      "text/plain": [
       "Index(['Balance', 'QualMiles', 'BonusMiles', 'BonusTrans', 'FlightMiles',\n",
       "       'FlightTrans', 'DaysSinceEnroll'],\n",
       "      dtype='object')"
      ]
     },
     "execution_count": 7,
     "metadata": {},
     "output_type": "execute_result"
    }
   ],
   "source": [
    "df.columns"
   ]
  },
  {
   "cell_type": "code",
   "execution_count": 8,
   "metadata": {},
   "outputs": [
    {
     "data": {
      "text/html": [
       "<div>\n",
       "<style>\n",
       "    .dataframe thead tr:only-child th {\n",
       "        text-align: right;\n",
       "    }\n",
       "\n",
       "    .dataframe thead th {\n",
       "        text-align: left;\n",
       "    }\n",
       "\n",
       "    .dataframe tbody tr th {\n",
       "        vertical-align: top;\n",
       "    }\n",
       "</style>\n",
       "<table border=\"1\" class=\"dataframe\">\n",
       "  <thead>\n",
       "    <tr style=\"text-align: right;\">\n",
       "      <th></th>\n",
       "      <th>Balance</th>\n",
       "      <th>QualMiles</th>\n",
       "      <th>BonusMiles</th>\n",
       "      <th>BonusTrans</th>\n",
       "      <th>FlightMiles</th>\n",
       "      <th>FlightTrans</th>\n",
       "      <th>DaysSinceEnroll</th>\n",
       "    </tr>\n",
       "  </thead>\n",
       "  <tbody>\n",
       "    <tr>\n",
       "      <th>count</th>\n",
       "      <td>3.999000e+03</td>\n",
       "      <td>3999.000000</td>\n",
       "      <td>3999.000000</td>\n",
       "      <td>3999.00000</td>\n",
       "      <td>3999.000000</td>\n",
       "      <td>3999.000000</td>\n",
       "      <td>3999.00000</td>\n",
       "    </tr>\n",
       "    <tr>\n",
       "      <th>mean</th>\n",
       "      <td>7.360133e+04</td>\n",
       "      <td>144.114529</td>\n",
       "      <td>17144.846212</td>\n",
       "      <td>11.60190</td>\n",
       "      <td>460.055764</td>\n",
       "      <td>1.373593</td>\n",
       "      <td>4118.55939</td>\n",
       "    </tr>\n",
       "    <tr>\n",
       "      <th>std</th>\n",
       "      <td>1.007757e+05</td>\n",
       "      <td>773.663804</td>\n",
       "      <td>24150.967826</td>\n",
       "      <td>9.60381</td>\n",
       "      <td>1400.209171</td>\n",
       "      <td>3.793172</td>\n",
       "      <td>2065.13454</td>\n",
       "    </tr>\n",
       "    <tr>\n",
       "      <th>min</th>\n",
       "      <td>0.000000e+00</td>\n",
       "      <td>0.000000</td>\n",
       "      <td>0.000000</td>\n",
       "      <td>0.00000</td>\n",
       "      <td>0.000000</td>\n",
       "      <td>0.000000</td>\n",
       "      <td>2.00000</td>\n",
       "    </tr>\n",
       "    <tr>\n",
       "      <th>25%</th>\n",
       "      <td>1.852750e+04</td>\n",
       "      <td>0.000000</td>\n",
       "      <td>1250.000000</td>\n",
       "      <td>3.00000</td>\n",
       "      <td>0.000000</td>\n",
       "      <td>0.000000</td>\n",
       "      <td>2330.00000</td>\n",
       "    </tr>\n",
       "    <tr>\n",
       "      <th>50%</th>\n",
       "      <td>4.309700e+04</td>\n",
       "      <td>0.000000</td>\n",
       "      <td>7171.000000</td>\n",
       "      <td>12.00000</td>\n",
       "      <td>0.000000</td>\n",
       "      <td>0.000000</td>\n",
       "      <td>4096.00000</td>\n",
       "    </tr>\n",
       "    <tr>\n",
       "      <th>75%</th>\n",
       "      <td>9.240400e+04</td>\n",
       "      <td>0.000000</td>\n",
       "      <td>23800.500000</td>\n",
       "      <td>17.00000</td>\n",
       "      <td>311.000000</td>\n",
       "      <td>1.000000</td>\n",
       "      <td>5790.50000</td>\n",
       "    </tr>\n",
       "    <tr>\n",
       "      <th>max</th>\n",
       "      <td>1.704838e+06</td>\n",
       "      <td>11148.000000</td>\n",
       "      <td>263685.000000</td>\n",
       "      <td>86.00000</td>\n",
       "      <td>30817.000000</td>\n",
       "      <td>53.000000</td>\n",
       "      <td>8296.00000</td>\n",
       "    </tr>\n",
       "  </tbody>\n",
       "</table>\n",
       "</div>"
      ],
      "text/plain": [
       "            Balance     QualMiles     BonusMiles  BonusTrans   FlightMiles  \\\n",
       "count  3.999000e+03   3999.000000    3999.000000  3999.00000   3999.000000   \n",
       "mean   7.360133e+04    144.114529   17144.846212    11.60190    460.055764   \n",
       "std    1.007757e+05    773.663804   24150.967826     9.60381   1400.209171   \n",
       "min    0.000000e+00      0.000000       0.000000     0.00000      0.000000   \n",
       "25%    1.852750e+04      0.000000    1250.000000     3.00000      0.000000   \n",
       "50%    4.309700e+04      0.000000    7171.000000    12.00000      0.000000   \n",
       "75%    9.240400e+04      0.000000   23800.500000    17.00000    311.000000   \n",
       "max    1.704838e+06  11148.000000  263685.000000    86.00000  30817.000000   \n",
       "\n",
       "       FlightTrans  DaysSinceEnroll  \n",
       "count  3999.000000       3999.00000  \n",
       "mean      1.373593       4118.55939  \n",
       "std       3.793172       2065.13454  \n",
       "min       0.000000          2.00000  \n",
       "25%       0.000000       2330.00000  \n",
       "50%       0.000000       4096.00000  \n",
       "75%       1.000000       5790.50000  \n",
       "max      53.000000       8296.00000  "
      ]
     },
     "execution_count": 8,
     "metadata": {},
     "output_type": "execute_result"
    }
   ],
   "source": [
    "df.describe()"
   ]
  },
  {
   "cell_type": "code",
   "execution_count": 38,
   "metadata": {},
   "outputs": [
    {
     "data": {
      "text/html": [
       "<div>\n",
       "<style>\n",
       "    .dataframe thead tr:only-child th {\n",
       "        text-align: right;\n",
       "    }\n",
       "\n",
       "    .dataframe thead th {\n",
       "        text-align: left;\n",
       "    }\n",
       "\n",
       "    .dataframe tbody tr th {\n",
       "        vertical-align: top;\n",
       "    }\n",
       "</style>\n",
       "<table border=\"1\" class=\"dataframe\">\n",
       "  <thead>\n",
       "    <tr style=\"text-align: right;\">\n",
       "      <th></th>\n",
       "      <th>Balance</th>\n",
       "      <th>QualMiles</th>\n",
       "      <th>BonusMiles</th>\n",
       "      <th>BonusTrans</th>\n",
       "      <th>FlightMiles</th>\n",
       "      <th>FlightTrans</th>\n",
       "      <th>DaysSinceEnroll</th>\n",
       "      <th>cluster</th>\n",
       "    </tr>\n",
       "  </thead>\n",
       "  <tbody>\n",
       "    <tr>\n",
       "      <th>0</th>\n",
       "      <td>28143</td>\n",
       "      <td>0</td>\n",
       "      <td>174</td>\n",
       "      <td>1</td>\n",
       "      <td>0</td>\n",
       "      <td>0</td>\n",
       "      <td>7000</td>\n",
       "      <td>3</td>\n",
       "    </tr>\n",
       "    <tr>\n",
       "      <th>1</th>\n",
       "      <td>19244</td>\n",
       "      <td>0</td>\n",
       "      <td>215</td>\n",
       "      <td>2</td>\n",
       "      <td>0</td>\n",
       "      <td>0</td>\n",
       "      <td>6968</td>\n",
       "      <td>3</td>\n",
       "    </tr>\n",
       "    <tr>\n",
       "      <th>2</th>\n",
       "      <td>41354</td>\n",
       "      <td>0</td>\n",
       "      <td>4123</td>\n",
       "      <td>4</td>\n",
       "      <td>0</td>\n",
       "      <td>0</td>\n",
       "      <td>7034</td>\n",
       "      <td>3</td>\n",
       "    </tr>\n",
       "    <tr>\n",
       "      <th>3</th>\n",
       "      <td>14776</td>\n",
       "      <td>0</td>\n",
       "      <td>500</td>\n",
       "      <td>1</td>\n",
       "      <td>0</td>\n",
       "      <td>0</td>\n",
       "      <td>6952</td>\n",
       "      <td>3</td>\n",
       "    </tr>\n",
       "    <tr>\n",
       "      <th>4</th>\n",
       "      <td>97752</td>\n",
       "      <td>0</td>\n",
       "      <td>43300</td>\n",
       "      <td>26</td>\n",
       "      <td>2077</td>\n",
       "      <td>4</td>\n",
       "      <td>6935</td>\n",
       "      <td>1</td>\n",
       "    </tr>\n",
       "  </tbody>\n",
       "</table>\n",
       "</div>"
      ],
      "text/plain": [
       "   Balance  QualMiles  BonusMiles  BonusTrans  FlightMiles  FlightTrans  \\\n",
       "0    28143          0         174           1            0            0   \n",
       "1    19244          0         215           2            0            0   \n",
       "2    41354          0        4123           4            0            0   \n",
       "3    14776          0         500           1            0            0   \n",
       "4    97752          0       43300          26         2077            4   \n",
       "\n",
       "   DaysSinceEnroll  cluster  \n",
       "0             7000        3  \n",
       "1             6968        3  \n",
       "2             7034        3  \n",
       "3             6952        3  \n",
       "4             6935        1  "
      ]
     },
     "execution_count": 38,
     "metadata": {},
     "output_type": "execute_result"
    }
   ],
   "source": [
    "#creating a duplicate dataset to work on\n",
    "df1 = df\n",
    "df1.head()"
   ]
  },
  {
   "cell_type": "code",
   "execution_count": 12,
   "metadata": {
    "collapsed": true
   },
   "outputs": [],
   "source": [
    "#scaling is required because we data has values in thousands and zero i.e if data is  of above type then we apply scaling\n",
    "\n",
    "#standardize the data to normal distribution\n",
    "#\n",
    "from sklearn import preprocessing\n",
    "df1_standardized = preprocessing.scale(df1)\n",
    "df1_standardized = pd.DataFrame(df1_standardized)"
   ]
  },
  {
   "cell_type": "code",
   "execution_count": 25,
   "metadata": {},
   "outputs": [
    {
     "name": "stdout",
     "output_type": "stream",
     "text": [
      "[27993.0, 21986.776166504049, 18131.370977425184, 15490.756814787495, 13515.207717858802, 12157.9018951619, 11044.404221804278, 10110.509525072524, 9472.7259768789572, 8925.6438457881122]\n"
     ]
    },
    {
     "data": {
      "image/png": "[encoded data removed]",
      "text/plain": [
       "<Figure size 720x576 with 1 Axes>"
      ]
     },
     "metadata": {},
     "output_type": "display_data"
    }
   ],
   "source": [
    "#find the  appropriate value of K - by Elbow method\n",
    "\n",
    "plt.figure(figsize=(10,8))\n",
    "wcss =[] #empty list\n",
    "for i in range(1,11):\n",
    "    kmeans = KMeans(n_clusters=i , init= 'k-means++' , random_state = 42)\n",
    "    kmeans.fit(df1_standardized)\n",
    "    wcss.append(kmeans.inertia_)\n",
    "print(wcss)    \n",
    "plt.plot(range(1,11),wcss)\n",
    "plt.title('Elbow Method for K')\n",
    "plt.xlabel('No. of clusters')\n",
    "plt.ylabel('kmeans_inertia_')\n",
    "\n",
    "plt.show()"
   ]
  },
  {
   "cell_type": "code",
   "execution_count": 40,
   "metadata": {},
   "outputs": [
    {
     "data": {
      "text/html": [
       "<div>\n",
       "<style>\n",
       "    .dataframe thead tr:only-child th {\n",
       "        text-align: right;\n",
       "    }\n",
       "\n",
       "    .dataframe thead th {\n",
       "        text-align: left;\n",
       "    }\n",
       "\n",
       "    .dataframe tbody tr th {\n",
       "        vertical-align: top;\n",
       "    }\n",
       "</style>\n",
       "<table border=\"1\" class=\"dataframe\">\n",
       "  <thead>\n",
       "    <tr style=\"text-align: right;\">\n",
       "      <th></th>\n",
       "      <th>Balance</th>\n",
       "      <th>QualMiles</th>\n",
       "      <th>BonusMiles</th>\n",
       "      <th>BonusTrans</th>\n",
       "      <th>FlightMiles</th>\n",
       "      <th>FlightTrans</th>\n",
       "      <th>DaysSinceEnroll</th>\n",
       "    </tr>\n",
       "    <tr>\n",
       "      <th>cluster</th>\n",
       "      <th></th>\n",
       "      <th></th>\n",
       "      <th></th>\n",
       "      <th></th>\n",
       "      <th></th>\n",
       "      <th></th>\n",
       "      <th></th>\n",
       "    </tr>\n",
       "  </thead>\n",
       "  <tbody>\n",
       "    <tr>\n",
       "      <th>1</th>\n",
       "      <td>152724.4</td>\n",
       "      <td>77.9</td>\n",
       "      <td>50999.4</td>\n",
       "      <td>21.3</td>\n",
       "      <td>479.4</td>\n",
       "      <td>1.5</td>\n",
       "      <td>4912.2</td>\n",
       "    </tr>\n",
       "    <tr>\n",
       "      <th>2</th>\n",
       "      <td>116472.4</td>\n",
       "      <td>5636.3</td>\n",
       "      <td>19804.3</td>\n",
       "      <td>12.5</td>\n",
       "      <td>963.0</td>\n",
       "      <td>2.9</td>\n",
       "      <td>3950.6</td>\n",
       "    </tr>\n",
       "    <tr>\n",
       "      <th>3</th>\n",
       "      <td>57410.4</td>\n",
       "      <td>53.4</td>\n",
       "      <td>8738.5</td>\n",
       "      <td>9.1</td>\n",
       "      <td>213.4</td>\n",
       "      <td>0.6</td>\n",
       "      <td>5828.1</td>\n",
       "    </tr>\n",
       "    <tr>\n",
       "      <th>4</th>\n",
       "      <td>191736.3</td>\n",
       "      <td>471.6</td>\n",
       "      <td>33093.3</td>\n",
       "      <td>28.4</td>\n",
       "      <td>5763.1</td>\n",
       "      <td>16.8</td>\n",
       "      <td>4666.4</td>\n",
       "    </tr>\n",
       "    <tr>\n",
       "      <th>5</th>\n",
       "      <td>38180.1</td>\n",
       "      <td>39.4</td>\n",
       "      <td>6734.2</td>\n",
       "      <td>7.6</td>\n",
       "      <td>180.0</td>\n",
       "      <td>0.6</td>\n",
       "      <td>2283.7</td>\n",
       "    </tr>\n",
       "  </tbody>\n",
       "</table>\n",
       "</div>"
      ],
      "text/plain": [
       "          Balance  QualMiles  BonusMiles  BonusTrans  FlightMiles  \\\n",
       "cluster                                                             \n",
       "1        152724.4       77.9     50999.4        21.3        479.4   \n",
       "2        116472.4     5636.3     19804.3        12.5        963.0   \n",
       "3         57410.4       53.4      8738.5         9.1        213.4   \n",
       "4        191736.3      471.6     33093.3        28.4       5763.1   \n",
       "5         38180.1       39.4      6734.2         7.6        180.0   \n",
       "\n",
       "         FlightTrans  DaysSinceEnroll  \n",
       "cluster                                \n",
       "1                1.5           4912.2  \n",
       "2                2.9           3950.6  \n",
       "3                0.6           5828.1  \n",
       "4               16.8           4666.4  \n",
       "5                0.6           2283.7  "
      ]
     },
     "execution_count": 40,
     "metadata": {},
     "output_type": "execute_result"
    }
   ],
   "source": [
    "# K means algorithm\n",
    "#fitting K-means to the dataset\n",
    "\n",
    "kmeans = KMeans(n_clusters=5 , init= 'k-means++' , random_state = 42)\n",
    "kmeans.fit(df1_standardized)\n",
    "y_kmeans = kmeans.fit_predict(df1_standardized)\n",
    "y_kmeans\n",
    "#beginning of the cluster numbering with 1 instead of 0\n",
    "y_kmeans1 = y_kmeans\n",
    "y_kmeans1 = y_kmeans+1\n",
    "#New dataframe called cluster\n",
    "cluster = pd.DataFrame(y_kmeans1)\n",
    "#Adding cluster to the dataset1\n",
    "df1['cluster']=cluster\n",
    "#means of clusters\n",
    "kmeans_mean_cluster = pd.DataFrame(round(df1.groupby('cluster').mean(),1))\n",
    "kmeans_mean_cluster\n",
    "\n",
    "#IN output 152724.4 is the mean value of balance for cluter 1 likewise for all columns"
   ]
  },
  {
   "cell_type": "code",
   "execution_count": 41,
   "metadata": {},
   "outputs": [
    {
     "data": {
      "text/plain": [
       "array([3])"
      ]
     },
     "execution_count": 41,
     "metadata": {},
     "output_type": "execute_result"
    }
   ],
   "source": [
    "kmeans.predict([[152724.4,77.9,50999.4,21.3,479.4,1.5,4912.2]])"
   ]
  },
  {
   "cell_type": "code",
   "execution_count": 42,
   "metadata": {},
   "outputs": [
    {
     "name": "stdout",
     "output_type": "stream",
     "text": [
      "5\n",
      "[[ 0.78343265 -0.08574292  1.40210526  1.00989063  0.01338988  0.02146742\n",
      "   0.38290995]\n",
      " [ 0.42546416  7.09987688  0.11013129  0.09826017  0.35926311  0.40006234\n",
      "  -0.08132353]\n",
      " [-0.16068347 -0.11732511 -0.34811688 -0.26055899 -0.1761986  -0.19190054\n",
      "   0.82791104]\n",
      " [ 1.17240389  0.42330125  0.66044906  1.74481144  3.78781998  4.05928363\n",
      "   0.2653201 ]\n",
      " [-0.35136715 -0.13527999 -0.43229738 -0.41376155 -0.19993373 -0.21556336\n",
      "  -0.88871343]]\n"
     ]
    }
   ],
   "source": [
    "print(kmeans.n_clusters) #number of clusters \n",
    "print(kmeans.cluster_centers_) #centroids values"
   ]
  },
  {
   "cell_type": "markdown",
   "metadata": {},
   "source": [
    "# Hierarchical Clustering"
   ]
  },
  {
   "cell_type": "code",
   "execution_count": 45,
   "metadata": {
    "collapsed": true
   },
   "outputs": [],
   "source": [
    "df2_standardized = df1_standardized\n",
    "#Dendogram\n",
    "from scipy.cluster.hierarchy import dendrogram,linkage\n",
    "import numpy as np\n",
    "#method = 'ward' uses the ward variance minimization algo.\n",
    "#s and t are new centroids"
   ]
  },
  {
   "cell_type": "code",
   "execution_count": 59,
   "metadata": {},
   "outputs": [
    {
     "data": {
      "image/png": "[encoded data removed]",
      "text/plain": [
       "<Figure size 864x576 with 1 Axes>"
      ]
     },
     "metadata": {},
     "output_type": "display_data"
    }
   ],
   "source": [
    "%matplotlib inline\n",
    "np.set_printoptions(precision= 5 , suppress=True) #suppress scientify\n",
    "#creating scientific float notation\n",
    "#method = 'ward' uses the ward variance minimization algo.\n",
    "H_cluster = linkage(df2_standardized,method='ward')\n",
    "plt.figure(figsize=(12,8))\n",
    "plt.title('Hierarchical Clustering dendrogram(truncated)')\n",
    "plt.xlabel('sample index or(cluster size)')\n",
    "plt.ylabel('distance')\n",
    "\n",
    "#Graphical representation of H_clustering\n",
    "# Z: H_cluster - linkage N-D array of histogram\n",
    "#truncate_mode : \n",
    "#'lastp'-The last p non-singleton formed in the linkage are the only non-leaf nodes in the linkage\n",
    "# search on google - 'dendrogram scipy' \n",
    "# level= No more than p levels of the dendrogram tree are displayed. This corresponds to Mathematica(TM) behavior.\n",
    "dendrogram(\n",
    "          Z = H_cluster,\n",
    "          truncate_mode='lastp',  #show only the last p merged clusters  #lastp/level/none\n",
    "          leaf_rotation = 90., #\n",
    "          leaf_font_size=12.,\n",
    "          show_contracted=True #to get a distribution impression in truncated branches\n",
    "    \n",
    ")\n",
    "plt.show()"
   ]
  },
  {
   "cell_type": "code",
   "execution_count": 54,
   "metadata": {},
   "outputs": [
    {
     "data": {
      "image/png": "[encoded data removed]",
      "text/plain": [
       "<Figure size 432x288 with 1 Axes>"
      ]
     },
     "metadata": {},
     "output_type": "display_data"
    }
   ],
   "source": [
    "dendrogram(\n",
    "          H_cluster,\n",
    "          truncate_mode='lastp',  #show only the last p merged clusters  \n",
    "          p=5,#number of clusters\n",
    "          leaf_rotation = 90., #\n",
    "          leaf_font_size=12.,\n",
    "          show_contracted=True #to get a distribution impression in truncated branches\n",
    "    \n",
    ")\n",
    "plt.show()"
   ]
  },
  {
   "cell_type": "code",
   "execution_count": 55,
   "metadata": {},
   "outputs": [
    {
     "data": {
      "image/png": "[encoded data removed]",
      "text/plain": [
       "<Figure size 864x576 with 1 Axes>"
      ]
     },
     "metadata": {},
     "output_type": "display_data"
    }
   ],
   "source": [
    "#Assigning the clusters and plotting the observations as per hierarchy\n",
    "from scipy.cluster.hierarchy import fcluster\n",
    "k=5\n",
    "cluster_2 = fcluster(H_cluster,k,criterion='maxclust')\n",
    "cluster_2[0:30:,]\n",
    "plt.figure(figsize=(12,8))\n",
    "plt.scatter(df2_standardized.iloc[:,0],df2_standardized.iloc[:,1],c=cluster_2,cmap='prism')\n",
    "#plot points with cluster dependent colors\n",
    "plt.title('Airline data - Hierarchical Clustering')\n",
    "plt.show()"
   ]
  },
  {
   "cell_type": "code",
   "execution_count": null,
   "metadata": {
    "collapsed": true
   },
   "outputs": [],
   "source": []
  }
 ],
 "metadata": {
  "kernelspec": {
   "display_name": "Python 3",
   "language": "python",
   "name": "python3"
  },
  "language_info": {
   "codemirror_mode": {
    "name": "ipython",
    "version": 3
   },
   "file_extension": ".py",
   "mimetype": "text/x-python",
   "name": "python",
   "nbconvert_exporter": "python",
   "pygments_lexer": "ipython3",
   "version": "3.6.3"
  }
 },
 "nbformat": 4,
 "nbformat_minor": 2
}
