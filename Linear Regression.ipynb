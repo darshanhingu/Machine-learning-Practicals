{
 "cells": [
  {
   "cell_type": "code",
   "execution_count": 1,
   "metadata": {
    "collapsed": true
   },
   "outputs": [],
   "source": [
    "import numpy as np\n",
    "import matplotlib.pyplot as plt\n",
    "#Defining linear_model\n",
    "from sklearn.linear_model import LinearRegression\n",
    "# mse and r2 errors \n",
    "from sklearn.metrics import mean_squared_error,r2_score"
   ]
  },
  {
   "cell_type": "code",
   "execution_count": 6,
   "metadata": {},
   "outputs": [
    {
     "name": "stdout",
     "output_type": "stream",
     "text": [
      "[[ 0.5488135 ]\n",
      " [ 0.71518937]\n",
      " [ 0.60276338]\n",
      " [ 0.54488318]\n",
      " [ 0.4236548 ]\n",
      " [ 0.64589411]\n",
      " [ 0.43758721]\n",
      " [ 0.891773  ]\n",
      " [ 0.96366276]\n",
      " [ 0.38344152]\n",
      " [ 0.79172504]\n",
      " [ 0.52889492]\n",
      " [ 0.56804456]\n",
      " [ 0.92559664]\n",
      " [ 0.07103606]\n",
      " [ 0.0871293 ]\n",
      " [ 0.0202184 ]\n",
      " [ 0.83261985]\n",
      " [ 0.77815675]\n",
      " [ 0.87001215]\n",
      " [ 0.97861834]\n",
      " [ 0.79915856]\n",
      " [ 0.46147936]\n",
      " [ 0.78052918]\n",
      " [ 0.11827443]\n",
      " [ 0.63992102]\n",
      " [ 0.14335329]\n",
      " [ 0.94466892]\n",
      " [ 0.52184832]\n",
      " [ 0.41466194]\n",
      " [ 0.26455561]\n",
      " [ 0.77423369]\n",
      " [ 0.45615033]\n",
      " [ 0.56843395]\n",
      " [ 0.0187898 ]\n",
      " [ 0.6176355 ]\n",
      " [ 0.61209572]\n",
      " [ 0.616934  ]\n",
      " [ 0.94374808]\n",
      " [ 0.6818203 ]\n",
      " [ 0.3595079 ]\n",
      " [ 0.43703195]\n",
      " [ 0.6976312 ]\n",
      " [ 0.06022547]\n",
      " [ 0.66676672]\n",
      " [ 0.67063787]\n",
      " [ 0.21038256]\n",
      " [ 0.1289263 ]\n",
      " [ 0.31542835]\n",
      " [ 0.36371077]\n",
      " [ 0.57019677]\n",
      " [ 0.43860151]\n",
      " [ 0.98837384]\n",
      " [ 0.10204481]\n",
      " [ 0.20887676]\n",
      " [ 0.16130952]\n",
      " [ 0.65310833]\n",
      " [ 0.2532916 ]\n",
      " [ 0.46631077]\n",
      " [ 0.24442559]\n",
      " [ 0.15896958]\n",
      " [ 0.11037514]\n",
      " [ 0.65632959]\n",
      " [ 0.13818295]\n",
      " [ 0.19658236]\n",
      " [ 0.36872517]\n",
      " [ 0.82099323]\n",
      " [ 0.09710128]\n",
      " [ 0.83794491]\n",
      " [ 0.09609841]\n",
      " [ 0.97645947]\n",
      " [ 0.4686512 ]\n",
      " [ 0.97676109]\n",
      " [ 0.60484552]\n",
      " [ 0.73926358]\n",
      " [ 0.03918779]\n",
      " [ 0.28280696]\n",
      " [ 0.12019656]\n",
      " [ 0.2961402 ]\n",
      " [ 0.11872772]\n",
      " [ 0.31798318]\n",
      " [ 0.41426299]\n",
      " [ 0.0641475 ]\n",
      " [ 0.69247212]\n",
      " [ 0.56660145]\n",
      " [ 0.26538949]\n",
      " [ 0.52324805]\n",
      " [ 0.09394051]\n",
      " [ 0.5759465 ]\n",
      " [ 0.9292962 ]\n",
      " [ 0.31856895]\n",
      " [ 0.66741038]\n",
      " [ 0.13179786]\n",
      " [ 0.7163272 ]\n",
      " [ 0.28940609]\n",
      " [ 0.18319136]\n",
      " [ 0.58651293]\n",
      " [ 0.02010755]\n",
      " [ 0.82894003]\n",
      " [ 0.00469548]]\n"
     ]
    }
   ],
   "source": [
    "#generate random data-set\n",
    "#seed will generate same values every time\n",
    "np.random.seed(0)\n",
    "x = np.random.rand(100,1)\n",
    "print(x)"
   ]
  },
  {
   "cell_type": "code",
   "execution_count": 7,
   "metadata": {
    "collapsed": true
   },
   "outputs": [],
   "source": [
    "y = 2 + 3 * x + np.random.rand(100,1)"
   ]
  },
  {
   "cell_type": "code",
   "execution_count": 8,
   "metadata": {
    "collapsed": true
   },
   "outputs": [],
   "source": [
    "#model initialization\n",
    "lr=LinearRegression()\n",
    "#Fit the data(train the model)\n",
    "lr.fit(x,y)\n",
    "#predict\n",
    "y_predicted=lr.predict(x)"
   ]
  },
  {
   "cell_type": "code",
   "execution_count": 9,
   "metadata": {
    "collapsed": true
   },
   "outputs": [],
   "source": [
    "mse=mean_squared_error(y,y_predicted)\n",
    "r2=r2_score(y,y_predicted)"
   ]
  },
  {
   "cell_type": "code",
   "execution_count": 10,
   "metadata": {},
   "outputs": [
    {
     "name": "stdout",
     "output_type": "stream",
     "text": [
      "Slope [[ 2.93655106]]\n",
      "Intercept [ 2.55808002]\n",
      "Mean Squared error 0.0762332458288\n",
      "r2 score: 0.903865556867\n"
     ]
    }
   ],
   "source": [
    "#Printing values\n",
    "print('Slope',lr.coef_)\n",
    "print('Intercept',lr.intercept_)\n",
    "print('Mean Squared error',mse)\n",
    "print('r2 score:',r2)"
   ]
  },
  {
   "cell_type": "code",
   "execution_count": 11,
   "metadata": {},
   "outputs": [
    {
     "data": {
      "image/png": "[encoded data removed]",
      "text/plain": [
       "<Figure size 720x360 with 1 Axes>"
      ]
     },
     "metadata": {},
     "output_type": "display_data"
    }
   ],
   "source": [
    "#plotting\n",
    "plt.figure(figsize=(10,5))\n",
    "plt.scatter(x,y,s=10)\n",
    "plt.xlabel('x')\n",
    "plt.ylabel('y')\n",
    "plt.title('Least regression')\n",
    "#predicted values\n",
    "plt.plot(x,y_predicted,color='r')\n",
    "plt.show()"
   ]
  },
  {
   "cell_type": "code",
   "execution_count": null,
   "metadata": {
    "collapsed": true
   },
   "outputs": [],
   "source": []
  }
 ],
 "metadata": {
  "kernelspec": {
   "display_name": "Python 3",
   "language": "python",
   "name": "python3"
  },
  "language_info": {
   "codemirror_mode": {
    "name": "ipython",
    "version": 3
   },
   "file_extension": ".py",
   "mimetype": "text/x-python",
   "name": "python",
   "nbconvert_exporter": "python",
   "pygments_lexer": "ipython3",
   "version": "3.6.3"
  }
 },
 "nbformat": 4,
 "nbformat_minor": 2
}
